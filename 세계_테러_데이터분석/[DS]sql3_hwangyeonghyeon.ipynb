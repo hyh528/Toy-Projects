{
 "cells": [
  {
   "cell_type": "markdown",
   "metadata": {
    "id": "5nPPJGLm6Xhv"
   },
   "source": [
    "# 제로베이스데이터사이언스 스쿨 원데이 프로젝트\n",
    "> ## 세계 테러 데이터 분석 - SQL 사용하기"
   ]
  },
  {
   "cell_type": "markdown",
   "metadata": {
    "id": "Hv81DmRn6Xhy"
   },
   "source": [
    "---"
   ]
  },
  {
   "cell_type": "markdown",
   "metadata": {
    "id": "7F_yxOYD6Xhz"
   },
   "source": [
    "#### 총 8문제 100점 만점 \n",
    "\n",
    "- 문제 1 10점  \n",
    "- 문제 2,3,5,6,7,8번 각 10점 \n",
    "- 문제 4번 30점\n",
    "- 총점 100점 "
   ]
  },
  {
   "cell_type": "markdown",
   "metadata": {
    "id": "652KFNlM6Xhz"
   },
   "source": [
    "#### 유의사항\n",
    "\n",
    "- 모든 정답 코드는 jupyter notebook 파일에 작성해주세요. \n",
    "- 1번 문제는 정답 코드를 그대로 공개해드립니다. 따라서 진행해주세요. \n",
    "- 그 외 문제들은 참고하실 수 있도록 주석과 출력 코드를 보여드립니다. \n",
    "- 제출시, 반드시 결과가 실행되어 있어야 합니다. 미실행 또는 오류시 감점입니다. \n",
    "- 제출시, [DS]sql3_choyongha.ipynb 형식에 맞춰 제출해주세요.\n"
   ]
  },
  {
   "cell_type": "markdown",
   "metadata": {
    "id": "7GCBghIT6Xh0"
   },
   "source": [
    "---"
   ]
  },
  {
   "cell_type": "markdown",
   "metadata": {
    "id": "9RNsKUsW8RYq"
   },
   "source": [
    "여러분은 이전 과제에서 세계 테러 데이터 분석 프로젝트를 진행하였습니다. \n",
    "\n",
    "이번 시간에는 분석할 데이터를 Database 로 변환하고, 분석에 필요한 데이터를 저장된 Database 에서 쿼리하여 가져와 보도록 하겠습니다. "
   ]
  },
  {
   "cell_type": "markdown",
   "metadata": {
    "id": "z2GVLSDu8gdL"
   },
   "source": [
    "#### 작업환경\n",
    "\n",
    "- aws rds 사용시: 이전 과제에서 생성한 AWS RDS (MySQL) 의 Database 및 사용자를 사용하세요. \n",
    "  - Database Name: oneday \n",
    "  - User Name / Password: oneday / 1234\n",
    "- local 사용시: 로컬 환경에서 생성한 Database 및 사용자를 사용하세요.\n",
    "  - 위와 동일하게 생성해주세요"
   ]
  },
  {
   "cell_type": "markdown",
   "metadata": {
    "id": "ZnlkSjd86Xh0"
   },
   "source": [
    "## 원본 Data Download\n",
    "- https://www.kaggle.com/datasets/START-UMD/gtd"
   ]
  },
  {
   "cell_type": "markdown",
   "metadata": {
    "id": "AlO8LSVF6Xh0"
   },
   "source": [
    "---"
   ]
  },
  {
   "cell_type": "markdown",
   "metadata": {
    "id": "LTCFgKRV6Xh0"
   },
   "source": [
    "문제 1.  csv 파일에 저장된 세계 테러 데이터를 하나의 테이블에 저장하세요. \n",
    "\n",
    "- globalterrorismmdb_0718.csv - https://www.kaggle.com/datasets/START-UMD/gtd\n",
    "- pandas의 to_sql 함수 사용 (힌트 : create_engine)\n",
    "- Table name : origin_terror_data \n",
    "\n",
    "제출 1. Table 생성 및 조회 결과 : DESC origin_terror_data, SELECT  COUNT(*) FROM origin_terror_data\n",
    "\n",
    "제출 2. 관련 코드 및 실행 결과 (ipynb)\n",
    "\n"
   ]
  },
  {
   "cell_type": "code",
   "execution_count": 1,
   "metadata": {},
   "outputs": [],
   "source": [
    "import mysql.connector"
   ]
  },
  {
   "cell_type": "code",
   "execution_count": 171,
   "metadata": {},
   "outputs": [],
   "source": [
    "##############################################################################################\n",
    "#  문제 1. 원본 데이터 (csv)를 데이터베이스로 변환하고 확인하기 \n",
    "#  globalterrorismdb_0718dist.csv -> origin_terror_data (table)\n",
    "#  Pandas 의 to_sql 사용 \n",
    "##############################################################################################\n",
    "\n",
    "##############################################################################################\n",
    "#  pip install pymysql\n",
    "#  pip install SQLAlchemy Flask-SQLAlchemy\n",
    "##############################################################################################\n",
    "\n",
    "import time\n",
    "import pandas as pd\n",
    "import pymysql\n",
    "from sqlalchemy import create_engine\n",
    "import configparser\n",
    "\n",
    "# 데이터 불러오기\n",
    "df = pd.read_csv('./globalterrorismdb_0718dist.csv', encoding='ISO-8859-1')\n",
    "\n",
    "# DB 접속 엔진 객체 생성\n",
    "user = 'oneday'\n",
    "password = '1234'\n",
    "host = 'database-1.cn4vthwm7kuj.us-east-2.rds.amazonaws.com'\n",
    "port = 3306\n",
    "database = 'oneday'\n",
    "\n",
    "engine = create_engine(f'mysql+pymysql://{user}:{password}@{host}:{port}/{database}?charset=utf8mb4')\n",
    "\n",
    "# DB 테이블 명(생성될 테이블 이름)\n",
    "table_name = \"origin_terror_data\"\n",
    "\n",
    "# DB에 DataFrame 적재\n",
    "df.to_sql(index = False, \n",
    "          name = table_name,\n",
    "          con = engine,\n",
    "          if_exists = 'append',\n",
    "          method = 'multi', \n",
    "          chunksize = 10000)\n"
   ]
  },
  {
   "cell_type": "code",
   "execution_count": 172,
   "metadata": {},
   "outputs": [
    {
     "name": "stdout",
     "output_type": "stream",
     "text": [
      "[(181691,)]\n"
     ]
    }
   ],
   "source": [
    "records = engine.execute(\"SELECT COUNT(*) FROM origin_terror_data\").fetchall()\n",
    "print(records)"
   ]
  },
  {
   "cell_type": "code",
   "execution_count": 3,
   "metadata": {
    "scrolled": false
   },
   "outputs": [
    {
     "name": "stdout",
     "output_type": "stream",
     "text": [
      "[('eventid', b'bigint', 'YES', '', None, ''), ('iyear', b'bigint', 'YES', '', None, ''), ('imonth', b'bigint', 'YES', '', None, ''), ('iday', b'bigint', 'YES', '', None, ''), ('approxdate', b'text', 'YES', '', None, ''), ('extended', b'bigint', 'YES', '', None, ''), ('resolution', b'text', 'YES', '', None, ''), ('country', b'bigint', 'YES', '', None, ''), ('country_txt', b'text', 'YES', '', None, ''), ('region', b'bigint', 'YES', '', None, ''), ('region_txt', b'text', 'YES', '', None, ''), ('provstate', b'text', 'YES', '', None, ''), ('city', b'text', 'YES', '', None, ''), ('latitude', b'double', 'YES', '', None, ''), ('longitude', b'double', 'YES', '', None, ''), ('specificity', b'double', 'YES', '', None, ''), ('vicinity', b'bigint', 'YES', '', None, ''), ('location', b'text', 'YES', '', None, ''), ('summary', b'text', 'YES', '', None, ''), ('crit1', b'bigint', 'YES', '', None, ''), ('crit2', b'bigint', 'YES', '', None, ''), ('crit3', b'bigint', 'YES', '', None, ''), ('doubtterr', b'double', 'YES', '', None, ''), ('alternative', b'double', 'YES', '', None, ''), ('alternative_txt', b'text', 'YES', '', None, ''), ('multiple', b'double', 'YES', '', None, ''), ('success', b'bigint', 'YES', '', None, ''), ('suicide', b'bigint', 'YES', '', None, ''), ('attacktype1', b'bigint', 'YES', '', None, ''), ('attacktype1_txt', b'text', 'YES', '', None, ''), ('attacktype2', b'double', 'YES', '', None, ''), ('attacktype2_txt', b'text', 'YES', '', None, ''), ('attacktype3', b'double', 'YES', '', None, ''), ('attacktype3_txt', b'text', 'YES', '', None, ''), ('targtype1', b'bigint', 'YES', '', None, ''), ('targtype1_txt', b'text', 'YES', '', None, ''), ('targsubtype1', b'double', 'YES', '', None, ''), ('targsubtype1_txt', b'text', 'YES', '', None, ''), ('corp1', b'text', 'YES', '', None, ''), ('target1', b'text', 'YES', '', None, ''), ('natlty1', b'double', 'YES', '', None, ''), ('natlty1_txt', b'text', 'YES', '', None, ''), ('targtype2', b'double', 'YES', '', None, ''), ('targtype2_txt', b'text', 'YES', '', None, ''), ('targsubtype2', b'double', 'YES', '', None, ''), ('targsubtype2_txt', b'text', 'YES', '', None, ''), ('corp2', b'text', 'YES', '', None, ''), ('target2', b'text', 'YES', '', None, ''), ('natlty2', b'double', 'YES', '', None, ''), ('natlty2_txt', b'text', 'YES', '', None, ''), ('targtype3', b'double', 'YES', '', None, ''), ('targtype3_txt', b'text', 'YES', '', None, ''), ('targsubtype3', b'double', 'YES', '', None, ''), ('targsubtype3_txt', b'text', 'YES', '', None, ''), ('corp3', b'text', 'YES', '', None, ''), ('target3', b'text', 'YES', '', None, ''), ('natlty3', b'double', 'YES', '', None, ''), ('natlty3_txt', b'text', 'YES', '', None, ''), ('gname', b'text', 'YES', '', None, ''), ('gsubname', b'text', 'YES', '', None, ''), ('gname2', b'text', 'YES', '', None, ''), ('gsubname2', b'text', 'YES', '', None, ''), ('gname3', b'text', 'YES', '', None, ''), ('gsubname3', b'text', 'YES', '', None, ''), ('motive', b'text', 'YES', '', None, ''), ('guncertain1', b'double', 'YES', '', None, ''), ('guncertain2', b'double', 'YES', '', None, ''), ('guncertain3', b'double', 'YES', '', None, ''), ('individual', b'bigint', 'YES', '', None, ''), ('nperps', b'double', 'YES', '', None, ''), ('nperpcap', b'double', 'YES', '', None, ''), ('claimed', b'double', 'YES', '', None, ''), ('claimmode', b'double', 'YES', '', None, ''), ('claimmode_txt', b'text', 'YES', '', None, ''), ('claim2', b'double', 'YES', '', None, ''), ('claimmode2', b'double', 'YES', '', None, ''), ('claimmode2_txt', b'text', 'YES', '', None, ''), ('claim3', b'double', 'YES', '', None, ''), ('claimmode3', b'double', 'YES', '', None, ''), ('claimmode3_txt', b'text', 'YES', '', None, ''), ('compclaim', b'double', 'YES', '', None, ''), ('weaptype1', b'bigint', 'YES', '', None, ''), ('weaptype1_txt', b'text', 'YES', '', None, ''), ('weapsubtype1', b'double', 'YES', '', None, ''), ('weapsubtype1_txt', b'text', 'YES', '', None, ''), ('weaptype2', b'double', 'YES', '', None, ''), ('weaptype2_txt', b'text', 'YES', '', None, ''), ('weapsubtype2', b'double', 'YES', '', None, ''), ('weapsubtype2_txt', b'text', 'YES', '', None, ''), ('weaptype3', b'double', 'YES', '', None, ''), ('weaptype3_txt', b'text', 'YES', '', None, ''), ('weapsubtype3', b'double', 'YES', '', None, ''), ('weapsubtype3_txt', b'text', 'YES', '', None, ''), ('weaptype4', b'double', 'YES', '', None, ''), ('weaptype4_txt', b'text', 'YES', '', None, ''), ('weapsubtype4', b'double', 'YES', '', None, ''), ('weapsubtype4_txt', b'text', 'YES', '', None, ''), ('weapdetail', b'text', 'YES', '', None, ''), ('nkill', b'double', 'YES', '', None, ''), ('nkillus', b'double', 'YES', '', None, ''), ('nkillter', b'double', 'YES', '', None, ''), ('nwound', b'double', 'YES', '', None, ''), ('nwoundus', b'double', 'YES', '', None, ''), ('nwoundte', b'double', 'YES', '', None, ''), ('property', b'bigint', 'YES', '', None, ''), ('propextent', b'double', 'YES', '', None, ''), ('propextent_txt', b'text', 'YES', '', None, ''), ('propvalue', b'double', 'YES', '', None, ''), ('propcomment', b'text', 'YES', '', None, ''), ('ishostkid', b'double', 'YES', '', None, ''), ('nhostkid', b'double', 'YES', '', None, ''), ('nhostkidus', b'double', 'YES', '', None, ''), ('nhours', b'double', 'YES', '', None, ''), ('ndays', b'double', 'YES', '', None, ''), ('divert', b'text', 'YES', '', None, ''), ('kidhijcountry', b'text', 'YES', '', None, ''), ('ransom', b'double', 'YES', '', None, ''), ('ransomamt', b'double', 'YES', '', None, ''), ('ransomamtus', b'double', 'YES', '', None, ''), ('ransompaid', b'double', 'YES', '', None, ''), ('ransompaidus', b'double', 'YES', '', None, ''), ('ransomnote', b'text', 'YES', '', None, ''), ('hostkidoutcome', b'double', 'YES', '', None, ''), ('hostkidoutcome_txt', b'text', 'YES', '', None, ''), ('nreleased', b'double', 'YES', '', None, ''), ('addnotes', b'text', 'YES', '', None, ''), ('scite1', b'text', 'YES', '', None, ''), ('scite2', b'text', 'YES', '', None, ''), ('scite3', b'text', 'YES', '', None, ''), ('dbsource', b'text', 'YES', '', None, ''), ('INT_LOG', b'bigint', 'YES', '', None, ''), ('INT_IDEO', b'bigint', 'YES', '', None, ''), ('INT_MISC', b'bigint', 'YES', '', None, ''), ('INT_ANY', b'bigint', 'YES', '', None, ''), ('related', b'text', 'YES', '', None, '')]\n"
     ]
    }
   ],
   "source": [
    "query = 'DESC origin_terror_data;'\n",
    "cursor.execute(query)\n",
    "\n",
    "records = cursor.fetchall()\n",
    "print(records)"
   ]
  },
  {
   "cell_type": "code",
   "execution_count": 4,
   "metadata": {},
   "outputs": [],
   "source": [
    "conn.close()"
   ]
  },
  {
   "cell_type": "markdown",
   "metadata": {
    "id": "gvkYDeOP6Xh3"
   },
   "source": [
    "문제 2. origin_terror_data 에서 region, country 관련 데이터는 code 와 txt (name) 속성으로 정의되어 있습니다. \n",
    "\n",
    "문제 2-1. Region 및 Country 테이블을 그림과 같은 구조로 생성하세요. \n",
    "\n",
    "- origin_terror_data 를 분석하여 각 테이블의 데이터 타입을 정의하세요. \n",
    "- 문자열 데이터의 사이즈는 origin_terror_data 테이블에서 해당 데이터의 max length 를 쿼리로 체크하여 정의하세요. \n",
    "- Region 과 Country 데이터 사이의 관계를 파악하여 Foreign Key 를 설정하세요.\n",
    "\n",
    "참고> \n",
    "- Region.region_code     = origin_terror_data.region\n",
    "- Region.region_name     = origin_terror_data.region_txt\n",
    "- Country.country_code   = origin_terror_data.country\n",
    "- Country.country_name   = origin_terror_data.country_txt\n"
   ]
  },
  {
   "cell_type": "code",
   "execution_count": 155,
   "metadata": {
    "id": "pXDokUId6Xh3"
   },
   "outputs": [],
   "source": [
    "##############################################################################################\n",
    "#  문제 2. region / country / city 데이터 추출하여 데이터베이스로 변환하기 \n",
    "#  중복을 제거한 code - name 값 \n",
    "#  region - country - city 관계 정의 \n",
    "##############################################################################################\n",
    "conn = mysql.connector.connect(\n",
    "    host = 'database-1.cn4vthwm7kuj.us-east-2.rds.amazonaws.com',\n",
    "    user = 'oneday',\n",
    "    password = '1234',\n",
    "    database = 'oneday'\n",
    ")\n",
    "\n",
    "cursor = conn.cursor(buffered=True)"
   ]
  },
  {
   "cell_type": "code",
   "execution_count": 32,
   "metadata": {},
   "outputs": [],
   "source": [
    "# Region 테이블 생성 \n",
    "region_table_query = \"\"\"\n",
    "CREATE TABLE Region (\n",
    "    region_code int PRIMARY KEY,\n",
    "    region_name VARCHAR(32) NOT NULL\n",
    ")\n",
    "\"\"\"\n",
    "cursor.execute(region_table_query)\n",
    "\n",
    "# Country 테이블 생성\n",
    "country_table_query = \"\"\"\n",
    "CREATE TABLE Country (\n",
    "    country_code int PRIMARY KEY,\n",
    "    region_code int NOT NULL,\n",
    "    country_name VARCHAR(32) NOT NULL,\n",
    "    FOREIGN KEY (region_code) REFERENCES Region(region_code)\n",
    ")\n",
    "\n",
    "\"\"\"\n",
    "cursor.execute(country_table_query)\n"
   ]
  },
  {
   "cell_type": "code",
   "execution_count": 33,
   "metadata": {},
   "outputs": [
    {
     "name": "stdout",
     "output_type": "stream",
     "text": [
      "[(27,)]\n"
     ]
    }
   ],
   "source": [
    "# region_txt 의 max length 체크 \n",
    "region_txt_size_query = \"SELECT MAX(LENGTH(region_txt)) FROM origin_terror_data\"\n",
    "cursor.execute(region_txt_size_query)\n",
    "region_txt_size = cursor.fetchone()\n",
    "print([region_txt_size])"
   ]
  },
  {
   "cell_type": "code",
   "execution_count": 46,
   "metadata": {},
   "outputs": [
    {
     "name": "stdout",
     "output_type": "stream",
     "text": [
      "[('region_code', b'int', 'NO', 'PRI', None, ''), ('region_name', b'varchar(32)', 'NO', '', None, '')]\n"
     ]
    }
   ],
   "source": [
    "# Region 테이블 만들기 \n",
    "query = 'DESC Region;'\n",
    "cursor.execute(query)\n",
    "\n",
    "region_table = cursor.fetchall()\n",
    "print(region_table)"
   ]
  },
  {
   "cell_type": "code",
   "execution_count": 35,
   "metadata": {},
   "outputs": [
    {
     "name": "stdout",
     "output_type": "stream",
     "text": [
      "[(32,)]\n"
     ]
    }
   ],
   "source": [
    "# country_txt 의 max length 체크 \n",
    "country_txt_query = \"SELECT MAX(LENGTH(country_txt)) FROM origin_terror_data\"\n",
    "cursor.execute(country_txt_query)\n",
    "country_txt_size = cursor.fetchone()\n",
    "print([country_txt_size])"
   ]
  },
  {
   "cell_type": "code",
   "execution_count": 41,
   "metadata": {
    "id": "oA8MaKyn6Xh4",
    "outputId": "59697f32-9ed7-445d-b148-84dba4c8b0bf"
   },
   "outputs": [
    {
     "name": "stdout",
     "output_type": "stream",
     "text": [
      "[('country_code', b'int', 'NO', 'PRI', None, ''), ('region_code', b'int', 'NO', 'MUL', None, ''), ('country_name', b'varchar(32)', 'NO', '', None, '')]\n"
     ]
    }
   ],
   "source": [
    "# Country 테이블 만들기  \n",
    "query = 'DESC Country;'\n",
    "cursor.execute(query)\n",
    "\n",
    "country_table = cursor.fetchall()\n",
    "print(country_table)"
   ]
  },
  {
   "cell_type": "markdown",
   "metadata": {
    "id": "oa6WyLym6Xh4"
   },
   "source": [
    "문제 2-2. origin_terror_data 테이블에서 Region 및 Country 데이터를 추출하여 문제 2-1.에서 생성한 테이블에 입력하고 확인하세요.   \n",
    "\n",
    "- 중복을 제거한 Unique Data 를 추출하세요. \n",
    "- 데이터를 INSERT 할때 순서를 고민하세요. \n",
    "\n",
    "제출 3. Table 생성 및 조회 결과 : DESC Region, DESC Country\n",
    "\n",
    "제출 4. 관련 코드 및 실행 결과 (ipynb)"
   ]
  },
  {
   "cell_type": "code",
   "execution_count": 182,
   "metadata": {},
   "outputs": [],
   "source": [
    "# region 테이블에 이볅\n",
    "region_query = \"\"\"\n",
    "    INSERT INTO Region (region_code, region_name)\n",
    "    SELECT DISTINCT region, region_txt\n",
    "    FROM origin_terror_data\n",
    "    WHERE region IS NOT NULL AND region_txt IS NOT NULL\n",
    "    ON DUPLICATE KEY UPDATE region_name=VALUES(region_name)\n",
    "\"\"\"\n",
    "cursor.execute(region_query)\n",
    "conn.commit()"
   ]
  },
  {
   "cell_type": "code",
   "execution_count": 183,
   "metadata": {},
   "outputs": [],
   "source": [
    "# Country 테이블에 입력\n",
    "country_query = \"\"\"\n",
    "    INSERT INTO Country (country_code, country_name, region_code)\n",
    "    SELECT od.country, od.country_txt, r.region_code\n",
    "    FROM origin_terror_data od\n",
    "    JOIN Region r ON od.region_txt = r.region_name\n",
    "    GROUP BY od.country, od.country_txt, r.region_code\n",
    "\"\"\"\n",
    "\n",
    "cursor.execute(country_query)\n",
    "conn.commit()"
   ]
  },
  {
   "cell_type": "code",
   "execution_count": 70,
   "metadata": {
    "scrolled": true
   },
   "outputs": [
    {
     "name": "stdout",
     "output_type": "stream",
     "text": [
      "[(1, 'North America'), (2, 'Central America & Caribbean'), (3, 'South America'), (4, 'East Asia'), (5, 'Southeast Asia'), (6, 'South Asia'), (7, 'Central Asia'), (8, 'Western Europe'), (9, 'Eastern Europe'), (10, 'Middle East & North Africa'), (11, 'Sub-Saharan Africa'), (12, 'Australasia & Oceania')]\n"
     ]
    }
   ],
   "source": [
    "# Region Unique Data 조회\n",
    "desc_region_query = \"\"\"\n",
    "    SELECT DISTINCT region_code, region_name\n",
    "    FROM Region\n",
    "\"\"\"\n",
    "cursor.execute(desc_region_query)\n",
    "print(cursor.fetchall())"
   ]
  },
  {
   "cell_type": "code",
   "execution_count": 77,
   "metadata": {},
   "outputs": [
    {
     "name": "stdout",
     "output_type": "stream",
     "text": [
      "[(4, 'Afghanistan'), (5, 'Albania'), (6, 'Algeria'), (7, 'Andorra'), (8, 'Angola'), (10, 'Antigua and Barbuda'), (11, 'Argentina'), (12, 'Armenia'), (14, 'Australia'), (15, 'Austria'), (16, 'Azerbaijan'), (17, 'Bahamas'), (18, 'Bahrain'), (19, 'Bangladesh'), (20, 'Barbados'), (21, 'Belgium'), (22, 'Belize'), (23, 'Benin'), (25, 'Bhutan'), (26, 'Bolivia'), (28, 'Bosnia-Herzegovina'), (29, 'Botswana'), (30, 'Brazil'), (31, 'Brunei'), (32, 'Bulgaria'), (33, 'Burkina Faso'), (34, 'Burundi'), (35, 'Belarus'), (36, 'Cambodia'), (37, 'Cameroon'), (38, 'Canada'), (41, 'Central African Republic'), (42, 'Chad'), (43, 'Chile'), (44, 'China'), (45, 'Colombia'), (46, 'Comoros'), (47, 'Republic of the Congo'), (49, 'Costa Rica'), (50, 'Croatia'), (51, 'Cuba'), (53, 'Cyprus'), (54, 'Czech Republic'), (55, 'Denmark'), (56, 'Djibouti'), (57, 'Dominica'), (58, 'Dominican Republic'), (59, 'Ecuador'), (60, 'Egypt'), (61, 'El Salvador'), (62, 'Equatorial Guinea'), (63, 'Eritrea'), (64, 'Estonia'), (65, 'Ethiopia'), (66, 'Falkland Islands'), (67, 'Fiji'), (68, 'Finland'), (69, 'France'), (70, 'French Guiana'), (71, 'French Polynesia'), (72, 'Gabon'), (73, 'Gambia'), (74, 'Georgia'), (75, 'Germany'), (76, 'Ghana'), (78, 'Greece'), (80, 'Grenada'), (81, 'Guadeloupe'), (83, 'Guatemala'), (84, 'Guinea'), (85, 'Guinea-Bissau'), (86, 'Guyana'), (87, 'Haiti'), (88, 'Honduras'), (89, 'Hong Kong'), (90, 'Hungary'), (91, 'Iceland'), (92, 'India'), (93, 'Indonesia'), (94, 'Iran'), (95, 'Iraq'), (96, 'Ireland'), (97, 'Israel'), (98, 'Italy'), (99, 'Ivory Coast'), (100, 'Jamaica'), (101, 'Japan'), (102, 'Jordan'), (103, 'Kazakhstan'), (104, 'Kenya'), (106, 'Kuwait'), (107, 'Kyrgyzstan'), (108, 'Laos'), (109, 'Latvia'), (110, 'Lebanon'), (111, 'Lesotho'), (112, 'Liberia'), (113, 'Libya'), (115, 'Lithuania'), (116, 'Luxembourg'), (117, 'Macau'), (118, 'Macedonia'), (119, 'Madagascar'), (120, 'Malawi'), (121, 'Malaysia'), (122, 'Maldives'), (123, 'Mali'), (124, 'Malta'), (127, 'Martinique'), (128, 'Mauritania'), (129, 'Mauritius'), (130, 'Mexico'), (132, 'Moldova'), (136, 'Morocco'), (137, 'Mozambique'), (138, 'Myanmar'), (139, 'Namibia'), (141, 'Nepal'), (142, 'Netherlands'), (143, 'New Caledonia'), (144, 'New Zealand'), (145, 'Nicaragua'), (146, 'Niger'), (147, 'Nigeria'), (149, 'North Korea'), (151, 'Norway'), (153, 'Pakistan'), (155, 'West Bank and Gaza Strip'), (156, 'Panama'), (157, 'Papua New Guinea'), (158, 'Paraguay'), (159, 'Peru'), (160, 'Philippines'), (161, 'Poland'), (162, 'Portugal'), (164, 'Qatar'), (166, 'Romania'), (167, 'Russia'), (168, 'Rwanda'), (173, 'Saudi Arabia'), (174, 'Senegal'), (175, 'Serbia-Montenegro'), (176, 'Seychelles'), (177, 'Sierra Leone'), (178, 'Singapore'), (179, 'Slovak Republic'), (180, 'Slovenia'), (181, 'Solomon Islands'), (182, 'Somalia'), (183, 'South Africa'), (184, 'South Korea'), (185, 'Spain'), (186, 'Sri Lanka'), (189, 'St. Kitts and Nevis'), (190, 'St. Lucia'), (195, 'Sudan'), (196, 'Suriname'), (197, 'Swaziland'), (198, 'Sweden'), (199, 'Switzerland'), (200, 'Syria'), (201, 'Taiwan'), (202, 'Tajikistan'), (203, 'Tanzania'), (204, 'Togo'), (205, 'Thailand'), (207, 'Trinidad and Tobago'), (208, 'Tunisia'), (209, 'Turkey'), (210, 'Turkmenistan'), (213, 'Uganda'), (214, 'Ukraine'), (215, 'United Arab Emirates'), (217, 'United States'), (218, 'Uruguay'), (219, 'Uzbekistan'), (220, 'Vanuatu'), (221, 'Vatican City'), (222, 'Venezuela'), (223, 'Vietnam'), (226, 'Wallis and Futuna'), (228, 'Yemen'), (229, 'Democratic Republic of the Congo'), (230, 'Zambia'), (231, 'Zimbabwe'), (235, 'Yugoslavia'), (236, 'Czechoslovakia'), (347, 'East Timor'), (349, 'Western Sahara'), (359, 'Soviet Union'), (362, 'West Germany (FRG)'), (377, 'North Yemen'), (403, 'Rhodesia'), (406, 'South Yemen'), (422, 'International'), (428, 'South Vietnam'), (499, 'East Germany (GDR)'), (532, 'New Hebrides'), (603, 'United Kingdom'), (604, 'Zaire'), (605, \"People's Republic of the Congo\"), (1001, 'Serbia'), (1002, 'Montenegro'), (1003, 'Kosovo'), (1004, 'South Sudan')]\n"
     ]
    }
   ],
   "source": [
    "# Country Unique Data 조회\n",
    "desc_country_query = \"\"\"\n",
    "    SELECT DISTINCT country_code, country_name\n",
    "    FROM Country\n",
    "\"\"\"\n",
    "cursor.execute(desc_country_query)\n",
    "print(cursor.fetchall())"
   ]
  },
  {
   "cell_type": "code",
   "execution_count": 78,
   "metadata": {},
   "outputs": [
    {
     "name": "stdout",
     "output_type": "stream",
     "text": [
      "[('region_code', b'int', 'NO', 'PRI', None, ''), ('region_name', b'varchar(32)', 'NO', '', None, '')]\n"
     ]
    }
   ],
   "source": [
    "# Region 테이블 조회\n",
    "desc_region_query = \"\"\"\n",
    "    DESC Region\n",
    "\"\"\"\n",
    "cursor.execute(desc_region_query)\n",
    "print(cursor.fetchall())"
   ]
  },
  {
   "cell_type": "code",
   "execution_count": 79,
   "metadata": {},
   "outputs": [
    {
     "name": "stdout",
     "output_type": "stream",
     "text": [
      "[('country_code', b'int', 'NO', 'PRI', None, ''), ('region_code', b'int', 'NO', 'MUL', None, ''), ('country_name', b'varchar(32)', 'NO', '', None, '')]\n"
     ]
    }
   ],
   "source": [
    "# Country 테이블 조회\n",
    "desc_country_query = \"\"\"\n",
    "    DESC Country\n",
    "\"\"\"\n",
    "cursor.execute(desc_country_query)\n",
    "print(cursor.fetchall())"
   ]
  },
  {
   "cell_type": "markdown",
   "metadata": {
    "id": "3crV-lIE6Xh5"
   },
   "source": [
    "문제 3.  origin_terror_data 에서 attack type, target type, weapon type 관련 데이터는 code 와 txt 속성으로 정의되어 있습니다.  \n",
    "\n",
    "문제 3-1. AttackType, TargetType, WeaponType 테이블을 그림과 같은 구조로 생성하세요. \n",
    "\n",
    "- origin_terror_data 를 분석하여 각 테이블의 데이터 타입을 정의하세요. \n",
    "- 문자열 데이터의 사이즈는 origin_terror_data 테이블에서 해당 데이터의 max length 를 쿼리로 체크하여 정의하세요. \n",
    "\n",
    "참고>\n",
    "- AttackType.attacktype_code    = origin_terror_data.attacktype1\n",
    "- AttackType.attacktype_desc    = origin_terror_data.attacktype1_txt \n",
    "- TargetType.targtype_code      = origin_terror_data.targtype1\n",
    "- TargetType.targtype_desc      = origin_terror_data.targtype1_txt\n",
    "- WeaponType.weaptype_code      = origin_terror_data.weaptype1\n",
    "- WeaponType.weaptype_desc      = origin_terror_data.weaptype1_txt "
   ]
  },
  {
   "cell_type": "code",
   "execution_count": 185,
   "metadata": {
    "collapsed": true
   },
   "outputs": [
    {
     "ename": "ProgrammingError",
     "evalue": "1050 (42S01): Table 'AttackType' already exists",
     "output_type": "error",
     "traceback": [
      "\u001b[1;31m---------------------------------------------------------------------------\u001b[0m",
      "\u001b[1;31mMySQLInterfaceError\u001b[0m                       Traceback (most recent call last)",
      "File \u001b[1;32m~\\anaconda3\\envs\\DS_school\\lib\\site-packages\\mysql\\connector\\connection_cext.py:611\u001b[0m, in \u001b[0;36mCMySQLConnection.cmd_query\u001b[1;34m(self, query, raw, buffered, raw_as_string)\u001b[0m\n\u001b[0;32m    610\u001b[0m         query \u001b[38;5;241m=\u001b[39m query\u001b[38;5;241m.\u001b[39mencode(\u001b[38;5;124m\"\u001b[39m\u001b[38;5;124mutf-8\u001b[39m\u001b[38;5;124m\"\u001b[39m)\n\u001b[1;32m--> 611\u001b[0m     \u001b[38;5;28;43mself\u001b[39;49m\u001b[38;5;241;43m.\u001b[39;49m\u001b[43m_cmysql\u001b[49m\u001b[38;5;241;43m.\u001b[39;49m\u001b[43mquery\u001b[49m\u001b[43m(\u001b[49m\n\u001b[0;32m    612\u001b[0m \u001b[43m        \u001b[49m\u001b[43mquery\u001b[49m\u001b[43m,\u001b[49m\n\u001b[0;32m    613\u001b[0m \u001b[43m        \u001b[49m\u001b[43mraw\u001b[49m\u001b[38;5;241;43m=\u001b[39;49m\u001b[43mraw\u001b[49m\u001b[43m,\u001b[49m\n\u001b[0;32m    614\u001b[0m \u001b[43m        \u001b[49m\u001b[43mbuffered\u001b[49m\u001b[38;5;241;43m=\u001b[39;49m\u001b[43mbuffered\u001b[49m\u001b[43m,\u001b[49m\n\u001b[0;32m    615\u001b[0m \u001b[43m        \u001b[49m\u001b[43mraw_as_string\u001b[49m\u001b[38;5;241;43m=\u001b[39;49m\u001b[43mraw_as_string\u001b[49m\u001b[43m,\u001b[49m\n\u001b[0;32m    616\u001b[0m \u001b[43m        \u001b[49m\u001b[43mquery_attrs\u001b[49m\u001b[38;5;241;43m=\u001b[39;49m\u001b[38;5;28;43mself\u001b[39;49m\u001b[38;5;241;43m.\u001b[39;49m\u001b[43m_query_attrs\u001b[49m\u001b[43m,\u001b[49m\n\u001b[0;32m    617\u001b[0m \u001b[43m    \u001b[49m\u001b[43m)\u001b[49m\n\u001b[0;32m    618\u001b[0m \u001b[38;5;28;01mexcept\u001b[39;00m MySQLInterfaceError \u001b[38;5;28;01mas\u001b[39;00m err:\n",
      "\u001b[1;31mMySQLInterfaceError\u001b[0m: Table 'AttackType' already exists",
      "\nThe above exception was the direct cause of the following exception:\n",
      "\u001b[1;31mProgrammingError\u001b[0m                          Traceback (most recent call last)",
      "Cell \u001b[1;32mIn[185], line 2\u001b[0m\n\u001b[0;32m      1\u001b[0m \u001b[38;5;66;03m# AttackType 테이블\u001b[39;00m\n\u001b[1;32m----> 2\u001b[0m \u001b[43mcursor\u001b[49m\u001b[38;5;241;43m.\u001b[39;49m\u001b[43mexecute\u001b[49m\u001b[43m(\u001b[49m\u001b[38;5;124;43m\"\"\"\u001b[39;49m\n\u001b[0;32m      3\u001b[0m \u001b[38;5;124;43m    CREATE TABLE AttackType (\u001b[39;49m\n\u001b[0;32m      4\u001b[0m \u001b[38;5;124;43m        attacktype_code INT PRIMARY KEY,\u001b[39;49m\n\u001b[0;32m      5\u001b[0m \u001b[38;5;124;43m        attacktype_desc VARCHAR(35) NOT NULL\u001b[39;49m\n\u001b[0;32m      6\u001b[0m \u001b[38;5;124;43m    )\u001b[39;49m\n\u001b[0;32m      7\u001b[0m \u001b[38;5;124;43m\"\"\"\u001b[39;49m\u001b[43m)\u001b[49m\n\u001b[0;32m      8\u001b[0m conn\u001b[38;5;241m.\u001b[39mcommit()\n\u001b[0;32m     10\u001b[0m \u001b[38;5;66;03m# TargetType 테이블\u001b[39;00m\n",
      "File \u001b[1;32m~\\anaconda3\\envs\\DS_school\\lib\\site-packages\\mysql\\connector\\cursor_cext.py:330\u001b[0m, in \u001b[0;36mCMySQLCursor.execute\u001b[1;34m(self, operation, params, multi)\u001b[0m\n\u001b[0;32m    325\u001b[0m             \u001b[38;5;28;01mraise\u001b[39;00m ProgrammingError(\n\u001b[0;32m    326\u001b[0m                 \u001b[38;5;124m\"\u001b[39m\u001b[38;5;124mNot all parameters were used in the SQL statement\u001b[39m\u001b[38;5;124m\"\u001b[39m\n\u001b[0;32m    327\u001b[0m             )\n\u001b[0;32m    329\u001b[0m \u001b[38;5;28;01mtry\u001b[39;00m:\n\u001b[1;32m--> 330\u001b[0m     result \u001b[38;5;241m=\u001b[39m \u001b[38;5;28;43mself\u001b[39;49m\u001b[38;5;241;43m.\u001b[39;49m\u001b[43m_cnx\u001b[49m\u001b[38;5;241;43m.\u001b[39;49m\u001b[43mcmd_query\u001b[49m\u001b[43m(\u001b[49m\n\u001b[0;32m    331\u001b[0m \u001b[43m        \u001b[49m\u001b[43mstmt\u001b[49m\u001b[43m,\u001b[49m\n\u001b[0;32m    332\u001b[0m \u001b[43m        \u001b[49m\u001b[43mraw\u001b[49m\u001b[38;5;241;43m=\u001b[39;49m\u001b[38;5;28;43mself\u001b[39;49m\u001b[38;5;241;43m.\u001b[39;49m\u001b[43m_raw\u001b[49m\u001b[43m,\u001b[49m\n\u001b[0;32m    333\u001b[0m \u001b[43m        \u001b[49m\u001b[43mbuffered\u001b[49m\u001b[38;5;241;43m=\u001b[39;49m\u001b[38;5;28;43mself\u001b[39;49m\u001b[38;5;241;43m.\u001b[39;49m\u001b[43m_buffered\u001b[49m\u001b[43m,\u001b[49m\n\u001b[0;32m    334\u001b[0m \u001b[43m        \u001b[49m\u001b[43mraw_as_string\u001b[49m\u001b[38;5;241;43m=\u001b[39;49m\u001b[38;5;28;43mself\u001b[39;49m\u001b[38;5;241;43m.\u001b[39;49m\u001b[43m_raw_as_string\u001b[49m\u001b[43m,\u001b[49m\n\u001b[0;32m    335\u001b[0m \u001b[43m    \u001b[49m\u001b[43m)\u001b[49m\n\u001b[0;32m    336\u001b[0m \u001b[38;5;28;01mexcept\u001b[39;00m MySQLInterfaceError \u001b[38;5;28;01mas\u001b[39;00m err:\n\u001b[0;32m    337\u001b[0m     \u001b[38;5;28;01mraise\u001b[39;00m get_mysql_exception(\n\u001b[0;32m    338\u001b[0m         msg\u001b[38;5;241m=\u001b[39merr\u001b[38;5;241m.\u001b[39mmsg, errno\u001b[38;5;241m=\u001b[39merr\u001b[38;5;241m.\u001b[39merrno, sqlstate\u001b[38;5;241m=\u001b[39merr\u001b[38;5;241m.\u001b[39msqlstate\n\u001b[0;32m    339\u001b[0m     ) \u001b[38;5;28;01mfrom\u001b[39;00m \u001b[38;5;21;01merr\u001b[39;00m\n",
      "File \u001b[1;32m~\\anaconda3\\envs\\DS_school\\lib\\site-packages\\mysql\\connector\\connection_cext.py:619\u001b[0m, in \u001b[0;36mCMySQLConnection.cmd_query\u001b[1;34m(self, query, raw, buffered, raw_as_string)\u001b[0m\n\u001b[0;32m    611\u001b[0m     \u001b[38;5;28mself\u001b[39m\u001b[38;5;241m.\u001b[39m_cmysql\u001b[38;5;241m.\u001b[39mquery(\n\u001b[0;32m    612\u001b[0m         query,\n\u001b[0;32m    613\u001b[0m         raw\u001b[38;5;241m=\u001b[39mraw,\n\u001b[1;32m   (...)\u001b[0m\n\u001b[0;32m    616\u001b[0m         query_attrs\u001b[38;5;241m=\u001b[39m\u001b[38;5;28mself\u001b[39m\u001b[38;5;241m.\u001b[39m_query_attrs,\n\u001b[0;32m    617\u001b[0m     )\n\u001b[0;32m    618\u001b[0m \u001b[38;5;28;01mexcept\u001b[39;00m MySQLInterfaceError \u001b[38;5;28;01mas\u001b[39;00m err:\n\u001b[1;32m--> 619\u001b[0m     \u001b[38;5;28;01mraise\u001b[39;00m get_mysql_exception(\n\u001b[0;32m    620\u001b[0m         err\u001b[38;5;241m.\u001b[39merrno, msg\u001b[38;5;241m=\u001b[39merr\u001b[38;5;241m.\u001b[39mmsg, sqlstate\u001b[38;5;241m=\u001b[39merr\u001b[38;5;241m.\u001b[39msqlstate\n\u001b[0;32m    621\u001b[0m     ) \u001b[38;5;28;01mfrom\u001b[39;00m \u001b[38;5;21;01merr\u001b[39;00m\n\u001b[0;32m    622\u001b[0m \u001b[38;5;28;01mexcept\u001b[39;00m \u001b[38;5;167;01mAttributeError\u001b[39;00m \u001b[38;5;28;01mas\u001b[39;00m err:\n\u001b[0;32m    623\u001b[0m     addr \u001b[38;5;241m=\u001b[39m (\n\u001b[0;32m    624\u001b[0m         \u001b[38;5;28mself\u001b[39m\u001b[38;5;241m.\u001b[39m_unix_socket \u001b[38;5;28;01mif\u001b[39;00m \u001b[38;5;28mself\u001b[39m\u001b[38;5;241m.\u001b[39m_unix_socket \u001b[38;5;28;01melse\u001b[39;00m \u001b[38;5;124mf\u001b[39m\u001b[38;5;124m\"\u001b[39m\u001b[38;5;132;01m{\u001b[39;00m\u001b[38;5;28mself\u001b[39m\u001b[38;5;241m.\u001b[39m_host\u001b[38;5;132;01m}\u001b[39;00m\u001b[38;5;124m:\u001b[39m\u001b[38;5;132;01m{\u001b[39;00m\u001b[38;5;28mself\u001b[39m\u001b[38;5;241m.\u001b[39m_port\u001b[38;5;132;01m}\u001b[39;00m\u001b[38;5;124m\"\u001b[39m\n\u001b[0;32m    625\u001b[0m     )\n",
      "\u001b[1;31mProgrammingError\u001b[0m: 1050 (42S01): Table 'AttackType' already exists"
     ]
    }
   ],
   "source": [
    "# AttackType 테이블\n",
    "cursor.execute(\"\"\"\n",
    "    CREATE TABLE AttackType (\n",
    "        attacktype_code INT PRIMARY KEY,\n",
    "        attacktype_desc VARCHAR(35) NOT NULL\n",
    "    )\n",
    "\"\"\")\n",
    "conn.commit()\n",
    "\n",
    "# TargetType 테이블\n",
    "cursor.execute(\"\"\"\n",
    "    CREATE TABLE TargetType (\n",
    "        targtype_code INT PRIMARY KEY,\n",
    "        targtype_desc VARCHAR(32) NOT NULL\n",
    "    )\n",
    "\"\"\")\n",
    "conn.commit()\n",
    "\n",
    "# WeaponType 테이블\n",
    "cursor.execute(\"\"\"\n",
    "    CREATE TABLE WeaponType (\n",
    "        weaptype_code INT PRIMARY KEY,\n",
    "        weaptype_desc VARCHAR(80) NOT NULL\n",
    "    )\n",
    "\"\"\")\n",
    "conn.commit()"
   ]
  },
  {
   "cell_type": "code",
   "execution_count": 186,
   "metadata": {},
   "outputs": [
    {
     "name": "stdout",
     "output_type": "stream",
     "text": [
      "[('attacktype_code', b'int', 'NO', 'PRI', None, ''), ('attacktype_desc', b'varchar(35)', 'NO', '', None, '')]\n",
      "[('targtype_code', b'int', 'NO', 'PRI', None, ''), ('targtype_desc', b'varchar(32)', 'NO', '', None, '')]\n",
      "[('weaptype_code', b'int', 'NO', 'PRI', None, ''), ('weaptype_desc', b'varchar(80)', 'NO', '', None, '')]\n"
     ]
    }
   ],
   "source": [
    "cursor.execute(\"DESCRIBE AttackType\")\n",
    "print(cursor.fetchall())\n",
    "\n",
    "cursor.execute(\"DESCRIBE TargetType\")\n",
    "print(cursor.fetchall())\n",
    "\n",
    "cursor.execute(\"DESCRIBE WeaponType\")\n",
    "print(cursor.fetchall())"
   ]
  },
  {
   "cell_type": "code",
   "execution_count": 88,
   "metadata": {
    "id": "UiqAu5YU6Xh5",
    "outputId": "a86b4e27-6b2f-4aa7-b90e-39527a1df76e"
   },
   "outputs": [
    {
     "name": "stdout",
     "output_type": "stream",
     "text": [
      "[(35,)]\n"
     ]
    }
   ],
   "source": [
    "# attacktype1 의 max length 체크 \n",
    "attacktype1_max_length = 'SELECT MAX(LENGTH(attacktype1_txt)) FROM origin_terror_data;'\n",
    "cursor.execute(attacktype1_max_length)\n",
    "print(cursor.fetchall())"
   ]
  },
  {
   "cell_type": "code",
   "execution_count": 95,
   "metadata": {
    "id": "SZBvbJZJ6Xh5",
    "outputId": "db56f0fe-5252-4756-d7f4-5acbc411f3cc"
   },
   "outputs": [
    {
     "name": "stdout",
     "output_type": "stream",
     "text": [
      "[(30,)]\n"
     ]
    }
   ],
   "source": [
    "# targettype1 의 max length 체크 \n",
    "targettype1_max_length = ' SELECT MAX(LENGTH(targtype1_txt)) FROM origin_terror_data'\n",
    "cursor.execute(targettype1_max_length)\n",
    "print(cursor.fetchall())"
   ]
  },
  {
   "cell_type": "code",
   "execution_count": 96,
   "metadata": {},
   "outputs": [
    {
     "name": "stdout",
     "output_type": "stream",
     "text": [
      "[(75,)]\n"
     ]
    }
   ],
   "source": [
    "# weaptype1 의 max length 체크 \n",
    "weaptype1_txt_query = \"\"\"\n",
    "    SELECT MAX(LENGTH(weaptype1_txt)) FROM origin_terror_data\n",
    "\"\"\"\n",
    "cursor.execute(weaptype1_txt_query)\n",
    "print(cursor.fetchall())"
   ]
  },
  {
   "cell_type": "markdown",
   "metadata": {
    "id": "Bnh0ts_46Xh6"
   },
   "source": [
    "문제 3-2. origin_terror_data 테이블에서 Attack Type, Target Type, Weapon Type 데이터를 추출하여 문제 3-1.에서 생성한 테이블에 입력하고 확인하세요.   \n",
    "\n",
    "- 중복을 제거한 Unique Data 를 추출하세요. \n",
    "- 데이터를 INSERT 할때 순서를 고민하세요.\n",
    "\n",
    "제출 5. Table 생성 및 조회 결과 : DESC AttackType, DESC TargetType, WeaponType\n",
    "\n",
    "제출 6. 관련 코드 및 실행 결과 (ipynb) "
   ]
  },
  {
   "cell_type": "code",
   "execution_count": 190,
   "metadata": {},
   "outputs": [],
   "source": [
    "# AttackType 테이블에 데이터 입력\n",
    "insert_query = \"\"\"\n",
    "    INSERT INTO AttackType (attacktype_code, attacktype_desc) VALUES (%s, %s)\n",
    "\"\"\"\n",
    "\n",
    "for data in attack_type_data:\n",
    "    cursor.execute(insert_query, data)\n",
    "    conn.commit()"
   ]
  },
  {
   "cell_type": "code",
   "execution_count": 105,
   "metadata": {},
   "outputs": [
    {
     "name": "stdout",
     "output_type": "stream",
     "text": [
      "[(1, 'Assassination'), (2, 'Armed Assault'), (3, 'Bombing/Explosion'), (4, 'Hijacking'), (5, 'Hostage Taking (Barricade Incident)'), (6, 'Hostage Taking (Kidnapping)'), (7, 'Facility/Infrastructure Attack'), (8, 'Unarmed Assault'), (9, 'Unknown')]\n"
     ]
    }
   ],
   "source": [
    "# 중복을 제거한 Unique Attack Type 데이터 추출\n",
    "attack_type_query = \"\"\"\n",
    "    SELECT DISTINCT attacktype1, attacktype1_txt FROM origin_terror_data \n",
    "    WHERE attacktype1 IS NOT NULL ORDER BY attacktype1\n",
    "\"\"\"\n",
    "cursor.execute(attack_type_query)\n",
    "attack_type_data = cursor.fetchall()\n",
    "print(attack_type_data)"
   ]
  },
  {
   "cell_type": "code",
   "execution_count": 101,
   "metadata": {},
   "outputs": [
    {
     "name": "stdout",
     "output_type": "stream",
     "text": [
      "('attacktype_code', b'int', 'NO', 'PRI', None, '')\n",
      "('attacktype_desc', b'varchar(35)', 'NO', '', None, '')\n"
     ]
    }
   ],
   "source": [
    "# AttackType 테이블 확인\n",
    "attack_type_desc_query = \"\"\"\n",
    "    DESC AttackType\n",
    "\"\"\"\n",
    "cursor.execute(attack_type_desc_query)\n",
    "attack_type_desc = cursor.fetchall()\n",
    "\n",
    "for desc in attack_type_desc:\n",
    "    print(desc)"
   ]
  },
  {
   "cell_type": "code",
   "execution_count": 103,
   "metadata": {
    "id": "TEbdDNXc6Xh6",
    "outputId": "f5801167-e8a4-4e89-909f-0627e39e15af"
   },
   "outputs": [
    {
     "name": "stdout",
     "output_type": "stream",
     "text": [
      "[(1, 'Business'), (2, 'Government (General)'), (3, 'Police'), (4, 'Military'), (5, 'Abortion Related'), (6, 'Airports & Aircraft'), (7, 'Government (Diplomatic)'), (8, 'Educational Institution'), (9, 'Food or Water Supply'), (10, 'Journalists & Media'), (11, 'Maritime'), (12, 'NGO'), (13, 'Other'), (14, 'Private Citizens & Property'), (15, 'Religious Figures/Institutions'), (16, 'Telecommunication'), (17, 'Terrorists/Non-State Militia'), (18, 'Tourists'), (19, 'Transportation'), (20, 'Unknown'), (21, 'Utilities'), (22, 'Violent Political Party')]\n"
     ]
    }
   ],
   "source": [
    "# 중복을 제거한 Unique Target Type 데이터 추출\n",
    "target_type_query = \"\"\"\n",
    "    SELECT DISTINCT targtype1, targtype1_txt FROM origin_terror_data \n",
    "    WHERE targtype1 IS NOT NULL ORDER BY targtype1\n",
    "\"\"\"\n",
    "cursor.execute(target_type_query)\n",
    "target_type_data = cursor.fetchall()\n",
    "print(target_type_data)"
   ]
  },
  {
   "cell_type": "code",
   "execution_count": 106,
   "metadata": {
    "scrolled": true
   },
   "outputs": [
    {
     "name": "stdout",
     "output_type": "stream",
     "text": [
      "(1, 'Business')\n",
      "(2, 'Government (General)')\n",
      "(3, 'Police')\n",
      "(4, 'Military')\n",
      "(5, 'Abortion Related')\n",
      "(6, 'Airports & Aircraft')\n",
      "(7, 'Government (Diplomatic)')\n",
      "(8, 'Educational Institution')\n",
      "(9, 'Food or Water Supply')\n",
      "(10, 'Journalists & Media')\n",
      "(11, 'Maritime')\n",
      "(12, 'NGO')\n",
      "(13, 'Other')\n",
      "(14, 'Private Citizens & Property')\n",
      "(15, 'Religious Figures/Institutions')\n",
      "(16, 'Telecommunication')\n",
      "(17, 'Terrorists/Non-State Militia')\n",
      "(18, 'Tourists')\n",
      "(19, 'Transportation')\n",
      "(20, 'Unknown')\n",
      "(21, 'Utilities')\n",
      "(22, 'Violent Political Party')\n"
     ]
    }
   ],
   "source": [
    "# TargetType 테이블에 데이터 입력\n",
    "insert_query = \"\"\"\n",
    "    INSERT INTO TargetType (targtype_code, targtype_desc) VALUES (%s, %s)\n",
    "\"\"\"\n",
    "\n",
    "for data in target_type_data:\n",
    "    cursor.execute(insert_query, data)\n",
    "    print(data)"
   ]
  },
  {
   "cell_type": "code",
   "execution_count": 112,
   "metadata": {
    "id": "6OUVvP3N6Xh6",
    "outputId": "c8e96eef-d22f-4751-dd6a-ab6d4bb5ece7"
   },
   "outputs": [
    {
     "name": "stdout",
     "output_type": "stream",
     "text": [
      "('targtype_code', b'int', 'NO', 'PRI', None, '')\n",
      "('targtype_desc', b'varchar(32)', 'NO', '', None, '')\n"
     ]
    }
   ],
   "source": [
    "# TargetType 테이블 확인\n",
    "target_type_desc_query = \"\"\"\n",
    "    DESC TargetType\n",
    "\"\"\"\n",
    "cursor.execute(target_type_desc_query)\n",
    "target_type_desc = cursor.fetchall()\n",
    "\n",
    "for desc in target_type_desc:\n",
    "    print(desc)"
   ]
  },
  {
   "cell_type": "code",
   "execution_count": 108,
   "metadata": {
    "id": "z8eBLdsD6Xh6",
    "outputId": "db916361-cedb-4dd4-ed2f-9f8b15ac81ec"
   },
   "outputs": [
    {
     "name": "stdout",
     "output_type": "stream",
     "text": [
      "[(1, 'Biological'), (2, 'Chemical'), (3, 'Radiological'), (5, 'Firearms'), (6, 'Explosives'), (7, 'Fake Weapons'), (8, 'Incendiary'), (9, 'Melee'), (10, 'Vehicle (not to include vehicle-borne explosives, i.e., car or truck bombs)'), (11, 'Sabotage Equipment'), (12, 'Other'), (13, 'Unknown')]\n"
     ]
    }
   ],
   "source": [
    "# 중복을 제거한 Unique Weapon Type 데이터 추출\n",
    "weapon_type_query = \"\"\"\n",
    "    SELECT DISTINCT weaptype1, weaptype1_txt FROM origin_terror_data \n",
    "    WHERE weaptype1 IS NOT NULL ORDER BY weaptype1\n",
    "\"\"\"\n",
    "cursor.execute(weapon_type_query)\n",
    "weapon_type_data = cursor.fetchall()\n",
    "print(weapon_type_data)"
   ]
  },
  {
   "cell_type": "code",
   "execution_count": 109,
   "metadata": {
    "id": "3KDICvG26Xh6",
    "outputId": "ed2d8932-f1b6-4651-acc5-b541b7808353",
    "scrolled": true
   },
   "outputs": [
    {
     "name": "stdout",
     "output_type": "stream",
     "text": [
      "(1, 'Biological')\n",
      "(2, 'Chemical')\n",
      "(3, 'Radiological')\n",
      "(5, 'Firearms')\n",
      "(6, 'Explosives')\n",
      "(7, 'Fake Weapons')\n",
      "(8, 'Incendiary')\n",
      "(9, 'Melee')\n",
      "(10, 'Vehicle (not to include vehicle-borne explosives, i.e., car or truck bombs)')\n",
      "(11, 'Sabotage Equipment')\n",
      "(12, 'Other')\n",
      "(13, 'Unknown')\n"
     ]
    }
   ],
   "source": [
    "# WeaponType 테이블에 데이터 입력\n",
    "insert_query = \"\"\"\n",
    "    INSERT INTO WeaponType (weaptype_code, weaptype_desc) VALUES (%s, %s)\n",
    "\"\"\"\n",
    "\n",
    "for data in weapon_type_data:\n",
    "    cursor.execute(insert_query, data)\n",
    "    print(data)"
   ]
  },
  {
   "cell_type": "code",
   "execution_count": 111,
   "metadata": {},
   "outputs": [
    {
     "name": "stdout",
     "output_type": "stream",
     "text": [
      "('weaptype_code', b'int', 'NO', 'PRI', None, '')\n",
      "('weaptype_desc', b'varchar(80)', 'NO', '', None, '')\n"
     ]
    }
   ],
   "source": [
    "# WeaponType 테이블 확인\n",
    "weapon_type_desc_query = \"\"\"\n",
    "    DESC WeaponType\n",
    "\"\"\"\n",
    "cursor.execute(weapon_type_desc_query)\n",
    "weapon_type_desc = cursor.fetchall()\n",
    "\n",
    "for desc in weapon_type_desc:\n",
    "    print(desc)"
   ]
  },
  {
   "cell_type": "markdown",
   "metadata": {
    "id": "UI-aVHxx6Xh6"
   },
   "source": [
    "문제 4. TerrorData 테이블을 만들고 앞서 만들어둔 테이블과 관계를 설정하도록 하겠습니다. \n",
    "문제 4-1. TerrorData 테이블을 앞의 그림과 같이 생성하세요. \n",
    "\n",
    "- origin_terror_data 를 분석하여 데이터 타입을 정의하세요. \n",
    "- 문자열 데이터의 사이즈는 origin_terror_data 테이블에서 해당 데이터의 max length 를 쿼리로 체크하여 정의하세요. \n",
    "\n",
    "참고> \n",
    "- TerrorData.terror id : Auto Increment \n",
    "- TerrorData.city_name    = origin_terror_data.city\n",
    "- TerrorData.target       = orgin_terror_data.target1\n",
    "- TerrorData.group_name   = origin_terror_data.gname\n",
    "- TerrorData.kill_count   = origin_terror_data.nkill\n",
    "- TerrorData.wound_count  = origin_terror_data.nwound\n",
    "- TerrorData.motive       = origin_terror_data.motive\n",
    "- TerrorData.summary      = origin_terror_data.summary\n",
    "- TerrorData.latitude     = origin_terror_data_latitude\n",
    "- TerrorData.longitude    = origin_terror_data_longitude\n",
    "- TerrorData.terror_date  = origin_terror_data.iyear + origin_terror_Data.imonth + origin_terror_data.iday (Date Type)"
   ]
  },
  {
   "cell_type": "code",
   "execution_count": 114,
   "metadata": {
    "collapsed": true
   },
   "outputs": [
    {
     "ename": "ProgrammingError",
     "evalue": "1050 (42S01): Table 'TerrorData' already exists",
     "output_type": "error",
     "traceback": [
      "\u001b[1;31m---------------------------------------------------------------------------\u001b[0m",
      "\u001b[1;31mMySQLInterfaceError\u001b[0m                       Traceback (most recent call last)",
      "File \u001b[1;32m~\\anaconda3\\envs\\DS_school\\lib\\site-packages\\mysql\\connector\\connection_cext.py:611\u001b[0m, in \u001b[0;36mCMySQLConnection.cmd_query\u001b[1;34m(self, query, raw, buffered, raw_as_string)\u001b[0m\n\u001b[0;32m    610\u001b[0m         query \u001b[38;5;241m=\u001b[39m query\u001b[38;5;241m.\u001b[39mencode(\u001b[38;5;124m\"\u001b[39m\u001b[38;5;124mutf-8\u001b[39m\u001b[38;5;124m\"\u001b[39m)\n\u001b[1;32m--> 611\u001b[0m     \u001b[38;5;28;43mself\u001b[39;49m\u001b[38;5;241;43m.\u001b[39;49m\u001b[43m_cmysql\u001b[49m\u001b[38;5;241;43m.\u001b[39;49m\u001b[43mquery\u001b[49m\u001b[43m(\u001b[49m\n\u001b[0;32m    612\u001b[0m \u001b[43m        \u001b[49m\u001b[43mquery\u001b[49m\u001b[43m,\u001b[49m\n\u001b[0;32m    613\u001b[0m \u001b[43m        \u001b[49m\u001b[43mraw\u001b[49m\u001b[38;5;241;43m=\u001b[39;49m\u001b[43mraw\u001b[49m\u001b[43m,\u001b[49m\n\u001b[0;32m    614\u001b[0m \u001b[43m        \u001b[49m\u001b[43mbuffered\u001b[49m\u001b[38;5;241;43m=\u001b[39;49m\u001b[43mbuffered\u001b[49m\u001b[43m,\u001b[49m\n\u001b[0;32m    615\u001b[0m \u001b[43m        \u001b[49m\u001b[43mraw_as_string\u001b[49m\u001b[38;5;241;43m=\u001b[39;49m\u001b[43mraw_as_string\u001b[49m\u001b[43m,\u001b[49m\n\u001b[0;32m    616\u001b[0m \u001b[43m        \u001b[49m\u001b[43mquery_attrs\u001b[49m\u001b[38;5;241;43m=\u001b[39;49m\u001b[38;5;28;43mself\u001b[39;49m\u001b[38;5;241;43m.\u001b[39;49m\u001b[43m_query_attrs\u001b[49m\u001b[43m,\u001b[49m\n\u001b[0;32m    617\u001b[0m \u001b[43m    \u001b[49m\u001b[43m)\u001b[49m\n\u001b[0;32m    618\u001b[0m \u001b[38;5;28;01mexcept\u001b[39;00m MySQLInterfaceError \u001b[38;5;28;01mas\u001b[39;00m err:\n",
      "\u001b[1;31mMySQLInterfaceError\u001b[0m: Table 'TerrorData' already exists",
      "\nThe above exception was the direct cause of the following exception:\n",
      "\u001b[1;31mProgrammingError\u001b[0m                          Traceback (most recent call last)",
      "Cell \u001b[1;32mIn[114], line 28\u001b[0m\n\u001b[0;32m      2\u001b[0m terror_data_query \u001b[38;5;241m=\u001b[39m \u001b[38;5;124m\"\"\"\u001b[39m\n\u001b[0;32m      3\u001b[0m \u001b[38;5;124m    CREATE TABLE TerrorData (\u001b[39m\n\u001b[0;32m      4\u001b[0m \u001b[38;5;124m        terror_id INT AUTO_INCREMENT PRIMARY KEY,\u001b[39m\n\u001b[1;32m   (...)\u001b[0m\n\u001b[0;32m     25\u001b[0m \u001b[38;5;124m    )\u001b[39m\n\u001b[0;32m     26\u001b[0m \u001b[38;5;124m\"\"\"\u001b[39m\n\u001b[0;32m     27\u001b[0m \u001b[38;5;66;03m# TerrorData 테이블 생성 쿼리문 실행\u001b[39;00m\n\u001b[1;32m---> 28\u001b[0m \u001b[43mcursor\u001b[49m\u001b[38;5;241;43m.\u001b[39;49m\u001b[43mexecute\u001b[49m\u001b[43m(\u001b[49m\u001b[43mterror_data_query\u001b[49m\u001b[43m)\u001b[49m\n\u001b[0;32m     30\u001b[0m \u001b[38;5;66;03m# 쿼리문 실행 결과에 대한 행(row) 수 확인\u001b[39;00m\n\u001b[0;32m     31\u001b[0m \u001b[38;5;28mprint\u001b[39m(\u001b[38;5;124mf\u001b[39m\u001b[38;5;124m\"\u001b[39m\u001b[38;5;132;01m{\u001b[39;00mcursor\u001b[38;5;241m.\u001b[39mrowcount\u001b[38;5;132;01m}\u001b[39;00m\u001b[38;5;124m rows affected\u001b[39m\u001b[38;5;124m\"\u001b[39m)\n",
      "File \u001b[1;32m~\\anaconda3\\envs\\DS_school\\lib\\site-packages\\mysql\\connector\\cursor_cext.py:330\u001b[0m, in \u001b[0;36mCMySQLCursor.execute\u001b[1;34m(self, operation, params, multi)\u001b[0m\n\u001b[0;32m    325\u001b[0m             \u001b[38;5;28;01mraise\u001b[39;00m ProgrammingError(\n\u001b[0;32m    326\u001b[0m                 \u001b[38;5;124m\"\u001b[39m\u001b[38;5;124mNot all parameters were used in the SQL statement\u001b[39m\u001b[38;5;124m\"\u001b[39m\n\u001b[0;32m    327\u001b[0m             )\n\u001b[0;32m    329\u001b[0m \u001b[38;5;28;01mtry\u001b[39;00m:\n\u001b[1;32m--> 330\u001b[0m     result \u001b[38;5;241m=\u001b[39m \u001b[38;5;28;43mself\u001b[39;49m\u001b[38;5;241;43m.\u001b[39;49m\u001b[43m_cnx\u001b[49m\u001b[38;5;241;43m.\u001b[39;49m\u001b[43mcmd_query\u001b[49m\u001b[43m(\u001b[49m\n\u001b[0;32m    331\u001b[0m \u001b[43m        \u001b[49m\u001b[43mstmt\u001b[49m\u001b[43m,\u001b[49m\n\u001b[0;32m    332\u001b[0m \u001b[43m        \u001b[49m\u001b[43mraw\u001b[49m\u001b[38;5;241;43m=\u001b[39;49m\u001b[38;5;28;43mself\u001b[39;49m\u001b[38;5;241;43m.\u001b[39;49m\u001b[43m_raw\u001b[49m\u001b[43m,\u001b[49m\n\u001b[0;32m    333\u001b[0m \u001b[43m        \u001b[49m\u001b[43mbuffered\u001b[49m\u001b[38;5;241;43m=\u001b[39;49m\u001b[38;5;28;43mself\u001b[39;49m\u001b[38;5;241;43m.\u001b[39;49m\u001b[43m_buffered\u001b[49m\u001b[43m,\u001b[49m\n\u001b[0;32m    334\u001b[0m \u001b[43m        \u001b[49m\u001b[43mraw_as_string\u001b[49m\u001b[38;5;241;43m=\u001b[39;49m\u001b[38;5;28;43mself\u001b[39;49m\u001b[38;5;241;43m.\u001b[39;49m\u001b[43m_raw_as_string\u001b[49m\u001b[43m,\u001b[49m\n\u001b[0;32m    335\u001b[0m \u001b[43m    \u001b[49m\u001b[43m)\u001b[49m\n\u001b[0;32m    336\u001b[0m \u001b[38;5;28;01mexcept\u001b[39;00m MySQLInterfaceError \u001b[38;5;28;01mas\u001b[39;00m err:\n\u001b[0;32m    337\u001b[0m     \u001b[38;5;28;01mraise\u001b[39;00m get_mysql_exception(\n\u001b[0;32m    338\u001b[0m         msg\u001b[38;5;241m=\u001b[39merr\u001b[38;5;241m.\u001b[39mmsg, errno\u001b[38;5;241m=\u001b[39merr\u001b[38;5;241m.\u001b[39merrno, sqlstate\u001b[38;5;241m=\u001b[39merr\u001b[38;5;241m.\u001b[39msqlstate\n\u001b[0;32m    339\u001b[0m     ) \u001b[38;5;28;01mfrom\u001b[39;00m \u001b[38;5;21;01merr\u001b[39;00m\n",
      "File \u001b[1;32m~\\anaconda3\\envs\\DS_school\\lib\\site-packages\\mysql\\connector\\connection_cext.py:619\u001b[0m, in \u001b[0;36mCMySQLConnection.cmd_query\u001b[1;34m(self, query, raw, buffered, raw_as_string)\u001b[0m\n\u001b[0;32m    611\u001b[0m     \u001b[38;5;28mself\u001b[39m\u001b[38;5;241m.\u001b[39m_cmysql\u001b[38;5;241m.\u001b[39mquery(\n\u001b[0;32m    612\u001b[0m         query,\n\u001b[0;32m    613\u001b[0m         raw\u001b[38;5;241m=\u001b[39mraw,\n\u001b[1;32m   (...)\u001b[0m\n\u001b[0;32m    616\u001b[0m         query_attrs\u001b[38;5;241m=\u001b[39m\u001b[38;5;28mself\u001b[39m\u001b[38;5;241m.\u001b[39m_query_attrs,\n\u001b[0;32m    617\u001b[0m     )\n\u001b[0;32m    618\u001b[0m \u001b[38;5;28;01mexcept\u001b[39;00m MySQLInterfaceError \u001b[38;5;28;01mas\u001b[39;00m err:\n\u001b[1;32m--> 619\u001b[0m     \u001b[38;5;28;01mraise\u001b[39;00m get_mysql_exception(\n\u001b[0;32m    620\u001b[0m         err\u001b[38;5;241m.\u001b[39merrno, msg\u001b[38;5;241m=\u001b[39merr\u001b[38;5;241m.\u001b[39mmsg, sqlstate\u001b[38;5;241m=\u001b[39merr\u001b[38;5;241m.\u001b[39msqlstate\n\u001b[0;32m    621\u001b[0m     ) \u001b[38;5;28;01mfrom\u001b[39;00m \u001b[38;5;21;01merr\u001b[39;00m\n\u001b[0;32m    622\u001b[0m \u001b[38;5;28;01mexcept\u001b[39;00m \u001b[38;5;167;01mAttributeError\u001b[39;00m \u001b[38;5;28;01mas\u001b[39;00m err:\n\u001b[0;32m    623\u001b[0m     addr \u001b[38;5;241m=\u001b[39m (\n\u001b[0;32m    624\u001b[0m         \u001b[38;5;28mself\u001b[39m\u001b[38;5;241m.\u001b[39m_unix_socket \u001b[38;5;28;01mif\u001b[39;00m \u001b[38;5;28mself\u001b[39m\u001b[38;5;241m.\u001b[39m_unix_socket \u001b[38;5;28;01melse\u001b[39;00m \u001b[38;5;124mf\u001b[39m\u001b[38;5;124m\"\u001b[39m\u001b[38;5;132;01m{\u001b[39;00m\u001b[38;5;28mself\u001b[39m\u001b[38;5;241m.\u001b[39m_host\u001b[38;5;132;01m}\u001b[39;00m\u001b[38;5;124m:\u001b[39m\u001b[38;5;132;01m{\u001b[39;00m\u001b[38;5;28mself\u001b[39m\u001b[38;5;241m.\u001b[39m_port\u001b[38;5;132;01m}\u001b[39;00m\u001b[38;5;124m\"\u001b[39m\n\u001b[0;32m    625\u001b[0m     )\n",
      "\u001b[1;31mProgrammingError\u001b[0m: 1050 (42S01): Table 'TerrorData' already exists"
     ]
    }
   ],
   "source": [
    "# TerrorData 테이블 생성하기\n",
    "terror_data_query = \"\"\"\n",
    "    CREATE TABLE TerrorData (\n",
    "        terror_id INT AUTO_INCREMENT PRIMARY KEY,\n",
    "        terror_date DATE NOT NULL,\n",
    "        region_code INT NOT NULL,\n",
    "        country_code INT NOT NULL,\n",
    "        city VARCHAR(65),\n",
    "        target VARCHAR(350),\n",
    "        group_name VARCHAR(120),\n",
    "        targtype_code INT NOT NULL,\n",
    "        attacktype_code INT NOT NULL,\n",
    "        weaptype_code INT NOT NULL,\n",
    "        kill_count INT NOT NULL DEFAULT 0,\n",
    "        wound_count INT NOT NULL DEFAULT 0,\n",
    "        motive VARCHAR(900),\n",
    "        summary VARCHAR(2450),\n",
    "        latitude DECIMAL(16, 14),\n",
    "        longitude DECIMAL(17, 14),\n",
    "        CONSTRAINT FK_TerrorData_Region FOREIGN KEY (region_code) REFERENCES Region(region_code),\n",
    "        CONSTRAINT FK_TerrorData_Country FOREIGN KEY (country_code) REFERENCES Country(country_code),\n",
    "        CONSTRAINT FK_TerrorData_TargType FOREIGN KEY (targtype_code) REFERENCES TargetType(targtype_code),\n",
    "        CONSTRAINT FK_TerrorData_AttackType FOREIGN KEY (attacktype_code) REFERENCES AttackType(attacktype_code),\n",
    "        CONSTRAINT FK_TerrorData_WeapType FOREIGN KEY (weaptype_code) REFERENCES WeaponType(weaptype_code)\n",
    "    )\n",
    "\"\"\"\n",
    "# TerrorData 테이블 생성 쿼리문 실행\n",
    "cursor.execute(terror_data_query)"
   ]
  },
  {
   "cell_type": "code",
   "execution_count": 116,
   "metadata": {},
   "outputs": [
    {
     "name": "stdout",
     "output_type": "stream",
     "text": [
      "('terror_id', b'int', 'NO', 'PRI', None, 'auto_increment')\n",
      "('terror_date', b'date', 'NO', '', None, '')\n",
      "('region_code', b'int', 'NO', 'MUL', None, '')\n",
      "('country_code', b'int', 'NO', 'MUL', None, '')\n",
      "('city', b'varchar(65)', 'YES', '', None, '')\n",
      "('target', b'varchar(350)', 'YES', '', None, '')\n",
      "('group_name', b'varchar(120)', 'YES', '', None, '')\n",
      "('targtype_code', b'int', 'NO', 'MUL', None, '')\n",
      "('attacktype_code', b'int', 'NO', 'MUL', None, '')\n",
      "('weaptype_code', b'int', 'NO', 'MUL', None, '')\n",
      "('kill_count', b'int', 'NO', '', b'0', '')\n",
      "('wound_count', b'int', 'NO', '', b'0', '')\n",
      "('motive', b'varchar(900)', 'YES', '', None, '')\n",
      "('summary', b'varchar(2450)', 'YES', '', None, '')\n",
      "('latitude', b'decimal(16,14)', 'YES', '', None, '')\n",
      "('longitude', b'decimal(17,14)', 'YES', '', None, '')\n"
     ]
    }
   ],
   "source": [
    "# TerrorData Desc\n",
    "cursor.execute(\"DESCRIBE TerrorData\")\n",
    "terror_data_schema = cursor.fetchall()\n",
    "for schema in terror_data_schema:\n",
    "    print(schema)"
   ]
  },
  {
   "cell_type": "code",
   "execution_count": 126,
   "metadata": {},
   "outputs": [
    {
     "name": "stdout",
     "output_type": "stream",
     "text": [
      "city: 65\n",
      "target1: 343\n",
      "gname: 112\n",
      "summary: 2431\n",
      "motive: 899\n"
     ]
    }
   ],
   "source": [
    "# max length 체크 \n",
    "# city의 max length 체크\n",
    "cursor.execute(\"SELECT MAX(LENGTH(city)) FROM origin_terror_data\")\n",
    "max_city_len = cursor.fetchone()[0]\n",
    "\n",
    "# target1의 max length 체크\n",
    "cursor.execute(\"SELECT MAX(LENGTH(target1)) FROM origin_terror_data\")\n",
    "max_target1_len = cursor.fetchone()[0]\n",
    "\n",
    "# gname의 max length 체크\n",
    "cursor.execute(\"SELECT MAX(LENGTH(gname)) FROM origin_terror_data\")\n",
    "max_gname_len = cursor.fetchone()[0]\n",
    "\n",
    "# summary의 max length 체크\n",
    "cursor.execute(\"SELECT MAX(LENGTH(summary)) FROM origin_terror_data\")\n",
    "max_summary_len = cursor.fetchone()[0]\n",
    "\n",
    "# motive의 max length 체크\n",
    "cursor.execute(\"SELECT MAX(LENGTH(motive)) FROM origin_terror_data\")\n",
    "max_motive_len = cursor.fetchone()[0]\n",
    "\n",
    "print(\"city:\", max_city_len)\n",
    "print(\"target1:\", max_target1_len)\n",
    "print(\"gname:\", max_gname_len)\n",
    "print(\"summary:\", max_summary_len)\n",
    "print(\"motive:\", max_motive_len)\n"
   ]
  },
  {
   "cell_type": "markdown",
   "metadata": {
    "id": "y3f1dU9R6Xh7"
   },
   "source": [
    "문제 4-2. origin_terror_data 테이블에서 Terror Data를 추출하여 문제 4-1.에서 생성한 테이블에 입력하고 확인하세요.\n",
    "\n",
    "- 앞서 생성한 Region, Country, AttackType, TargetType, WeaponType 데이터와의 관계에 주의하세요.\n",
    "- Count 값을 가지는 칼럼의 값이 null 인 경우, 0으로 예외처리 해주세요.\n",
    "- 위도 경도 데이터 중 범위를 넘어서는 데이터가 존재합니다. 이 경우, null 값으로 예외처리 해주세요. (위도 경도 범위 : 구글링해보세요.)\n",
    "- terror_date 칼럼의 경우, origin_terror_data 의 연, 월, 일 정보를 조합하여 date type 으로 정의해주세요. (Format : ‘YYYY-mm-dd’)\n",
    "- origin_terror_data 의 월, 일 정보중 값이 0 인 경우 date type 으로 변환되지 않습니다. 이 경우, 1 로 예외처리 해주세요.\n",
    "- 데이터 입력까지 완료한 이후, origin_terror_data 테이블을 삭제하고 확인하세요.\n",
    "\n",
    "제출 7. Table 생성 및 조회 결과 : DESC TerrorData, SELECT COUNT(*) FROM TerrorData \n",
    "\n",
    "제출 8. 관련 코드 및 실행 결과 (ipynb)"
   ]
  },
  {
   "cell_type": "code",
   "execution_count": null,
   "metadata": {},
   "outputs": [],
   "source": []
  },
  {
   "cell_type": "code",
   "execution_count": 210,
   "metadata": {},
   "outputs": [],
   "source": [
    "query = \"\"\"\n",
    "INSERT INTO TerrorData (region_code, country_code, attacktype_code, targtype_code, weaptype_code, terror_date, city, target, group_name, kill_count, wound_count, motive, summary, latitude, longitude)\n",
    "SELECT c.region_code, td.country, at.attacktype_code, tt.targtype_code, wt.weaptype_code,\n",
    "    CONCAT(CASE WHEN td.iyear = 0 THEN '0001' ELSE LPAD(td.iyear, 4, '0') END, '-', CASE WHEN td.imonth = 0 THEN '01' ELSE LPAD(td.imonth, 2, '0') END, '-', CASE WHEN td.iday = 0 THEN '01' ELSE LPAD(td.iday, 2, '0') END) AS terror_date,\n",
    "    IFNULL(td.city, '') AS city,\n",
    "    IFNULL(td.target1, '') AS target,\n",
    "    IFNULL(td.gname, '') AS group_name,\n",
    "    COALESCE(td.nkill, 0) AS kill_count,\n",
    "    COALESCE(td.nwound, 0) AS wound_count,\n",
    "    IFNULL(td.motive, '') AS motive,\n",
    "    IFNULL(td.summary, '') AS summary,\n",
    "    IF(td.latitude > 90 OR td.latitude < -90, NULL, td.latitude) AS latitude,\n",
    "    IF(td.longitude > 180 OR td.longitude < -180, NULL, td.longitude) AS longitude\n",
    "FROM origin_terror_data td\n",
    "INNER JOIN Country c ON td.country_txt = c.country_name\n",
    "LEFT JOIN AttackType at ON td.attacktype1_txt = at.attacktype_desc\n",
    "LEFT JOIN TargetType tt ON td.targtype1_txt = tt.targtype_desc\n",
    "LEFT JOIN WeaponType wt ON td.weaptype1_txt = wt.weaptype_desc;\n",
    "\"\"\"\n",
    "\n",
    "cursor.execute(query)"
   ]
  },
  {
   "cell_type": "code",
   "execution_count": 212,
   "metadata": {},
   "outputs": [],
   "source": [
    "conn.commit()"
   ]
  },
  {
   "cell_type": "code",
   "execution_count": 213,
   "metadata": {},
   "outputs": [
    {
     "name": "stdout",
     "output_type": "stream",
     "text": [
      "[('terror_id', b'int', 'NO', 'PRI', None, 'auto_increment'), ('terror_date', b'date', 'NO', '', None, ''), ('region_code', b'int', 'NO', 'MUL', None, ''), ('country_code', b'int', 'NO', 'MUL', None, ''), ('city', b'varchar(65)', 'YES', '', None, ''), ('target', b'varchar(350)', 'YES', '', None, ''), ('group_name', b'varchar(120)', 'YES', '', None, ''), ('targtype_code', b'int', 'NO', 'MUL', None, ''), ('attacktype_code', b'int', 'NO', 'MUL', None, ''), ('weaptype_code', b'int', 'NO', 'MUL', None, ''), ('kill_count', b'int', 'NO', '', b'0', ''), ('wound_count', b'int', 'NO', '', b'0', ''), ('motive', b'varchar(900)', 'YES', '', None, ''), ('summary', b'varchar(2450)', 'YES', '', None, ''), ('latitude', b'decimal(16,14)', 'YES', '', None, ''), ('longitude', b'decimal(17,14)', 'YES', '', None, '')]\n"
     ]
    }
   ],
   "source": [
    "# TerrorData 테이블 구조 확인\n",
    "cursor.execute(\"DESC TerrorData\")\n",
    "print(cursor.fetchall())"
   ]
  },
  {
   "cell_type": "code",
   "execution_count": 214,
   "metadata": {},
   "outputs": [
    {
     "name": "stdout",
     "output_type": "stream",
     "text": [
      "(181691,)\n"
     ]
    }
   ],
   "source": [
    "# TerrorData 테이블 레코드 수 확인\n",
    "cursor.execute(\"SELECT COUNT(*) FROM TerrorData\")\n",
    "print(cursor.fetchone())"
   ]
  },
  {
   "cell_type": "code",
   "execution_count": 215,
   "metadata": {},
   "outputs": [],
   "source": [
    "# origin_terror_data 테이블 삭제\n",
    "cursor.execute(\"DROP TABLE origin_terror_data\")"
   ]
  },
  {
   "cell_type": "markdown",
   "metadata": {
    "id": "hwD6-Y1b6Xh8"
   },
   "source": [
    "문제 5. TerrorData 의 전체 기간에서 테러의 숫자를 연도별로 집계하여 연도별 테러 발생 건수를 조회하세요. \n",
    "\n",
    "- Python 코드에서 SQL 쿼리를 사용하여 조회합니다. \n",
    "\n",
    "제출 9. 관련 코드 및 실행 결과 (ipynb)"
   ]
  },
  {
   "cell_type": "code",
   "execution_count": null,
   "metadata": {
    "collapsed": true,
    "id": "84_w2Zt96Xh8",
    "outputId": "bcd2d4a1-d760-42b8-ac72-7539fc591425"
   },
   "outputs": [
    {
     "name": "stdout",
     "output_type": "stream",
     "text": [
      "('1970', 651)\n",
      "('1971', 471)\n",
      "('1972', 568)\n",
      "('1973', 473)\n",
      "('1974', 581)\n",
      "('1975', 740)\n",
      "('1976', 923)\n",
      "('1977', 1319)\n",
      "('1978', 1526)\n",
      "('1979', 2662)\n",
      "('1980', 2662)\n",
      "('1981', 2586)\n",
      "('1986', 2860)\n",
      "('1982', 2544)\n",
      "('1983', 2870)\n",
      "('1984', 3495)\n",
      "('1985', 2915)\n",
      "('1987', 3183)\n",
      "('1988', 3721)\n",
      "('1989', 4324)\n",
      "('1990', 3887)\n",
      "('1991', 4683)\n",
      "('1992', 5071)\n",
      "('1994', 3456)\n",
      "('1995', 3081)\n",
      "('1996', 3058)\n",
      "('1997', 3197)\n",
      "('1998', 934)\n",
      "('1999', 1395)\n",
      "('2000', 1814)\n",
      "('2001', 1906)\n",
      "('2002', 1333)\n",
      "('2003', 1278)\n",
      "('2004', 1166)\n",
      "('2005', 2017)\n",
      "('2006', 2758)\n",
      "('2007', 3242)\n",
      "('2008', 4805)\n",
      "('2009', 4721)\n",
      "('2010', 4826)\n",
      "('2011', 5076)\n",
      "('2012', 8522)\n",
      "('2013', 12036)\n",
      "('2014', 16903)\n",
      "('2015', 14965)\n",
      "('2016', 13587)\n",
      "('2017', 10900)\n"
     ]
    }
   ],
   "source": []
  },
  {
   "cell_type": "markdown",
   "metadata": {
    "id": "CjCUYI--6Xh8"
   },
   "source": [
    "문제 6. TerrorData 에서 테러가 가장 많이 일어난 순서로 국가를 정렬하여 상위 10위 국가를 조회하세요. \n",
    "\n",
    "- Python 코드에서 SQL 쿼리를 사용하여 조회합니다. \n",
    "- 국가 정보는 이름으로 출력하세요.\n",
    "\n",
    "제출 10. 관련 코드 및 실행 결과 (ipynb)"
   ]
  },
  {
   "cell_type": "code",
   "execution_count": 222,
   "metadata": {},
   "outputs": [
    {
     "name": "stdout",
     "output_type": "stream",
     "text": [
      "('Middle East & North Africa', 50474)\n",
      "('South Asia', 44974)\n",
      "('South America', 18978)\n",
      "('Sub-Saharan Africa', 17550)\n",
      "('Western Europe', 16639)\n",
      "('Southeast Asia', 12485)\n",
      "('Central America & Caribbean', 10344)\n",
      "('Eastern Europe', 5144)\n",
      "('North America', 3456)\n",
      "('East Asia', 802)\n",
      "('Central Asia', 563)\n",
      "('Australasia & Oceania', 282)\n"
     ]
    }
   ],
   "source": [
    "# 테러가 많이 일어난 상위 10위 Region\n",
    "\n",
    "query = '''\n",
    "    SELECT c.region_name, COUNT(*) as cnt\n",
    "    FROM TerrorData td\n",
    "    JOIN Region c ON td.region_code = c.region_code\n",
    "    GROUP BY c.region_name\n",
    "    ORDER BY cnt DESC\n",
    "'''\n",
    "\n",
    "cursor.execute(query)\n",
    "result = cursor.fetchall()\n",
    "\n",
    "for row in result:\n",
    "    print(row)"
   ]
  },
  {
   "cell_type": "code",
   "execution_count": 220,
   "metadata": {},
   "outputs": [
    {
     "name": "stdout",
     "output_type": "stream",
     "text": [
      "('Iraq', 24636)\n",
      "('Pakistan', 14368)\n",
      "('Afghanistan', 12731)\n",
      "('India', 11960)\n",
      "('Colombia', 8306)\n",
      "('Philippines', 6908)\n",
      "('Peru', 6096)\n",
      "('El Salvador', 5320)\n",
      "('United Kingdom', 5235)\n",
      "('Turkey', 4292)\n"
     ]
    }
   ],
   "source": [
    "# 테러가 많이 일어난 상위 10위 Country \n",
    "\n",
    "query = '''\n",
    "    SELECT c.country_name, COUNT(*) as cnt\n",
    "    FROM TerrorData td\n",
    "    JOIN Country c ON td.country_code = c.country_code\n",
    "    GROUP BY c.country_name\n",
    "    ORDER BY cnt DESC\n",
    "    LIMIT 10\n",
    "'''\n",
    "\n",
    "cursor.execute(query)\n",
    "result = cursor.fetchall()\n",
    "\n",
    "for row in result:\n",
    "    print(row)"
   ]
  },
  {
   "cell_type": "markdown",
   "metadata": {
    "id": "w9LuZulD6Xh8"
   },
   "source": [
    "문제 7. TerrorData 에서 테러가 가장 많이 일어난 상위 10위 국가에 대해 국가별로 사망자수와 부상자수, 사상자수(사망자수 + 부상자수)를 조회하세요. \n",
    "\n",
    "- Python 코드에서 SQL 쿼리를 사용하여 조회합니다. \n",
    "- 국가 정보는 이름으로 출력하세요.\n",
    "\n",
    "제출 11. 관련 코드 및 실행 결과 (ipynb)"
   ]
  },
  {
   "cell_type": "code",
   "execution_count": 233,
   "metadata": {},
   "outputs": [
    {
     "name": "stdout",
     "output_type": "stream",
     "text": [
      "('Iraq', 24636, Decimal('78589'), Decimal('134690'), Decimal('213279'))\n",
      "('Pakistan', 14368, Decimal('23822'), Decimal('42038'), Decimal('65860'))\n",
      "('Afghanistan', 12731, Decimal('39384'), Decimal('44277'), Decimal('83661'))\n",
      "('India', 11960, Decimal('19341'), Decimal('28980'), Decimal('48321'))\n",
      "('Colombia', 8306, Decimal('14698'), Decimal('10328'), Decimal('25026'))\n",
      "('Philippines', 6908, Decimal('9559'), Decimal('13367'), Decimal('22926'))\n",
      "('Peru', 6096, Decimal('12771'), Decimal('4078'), Decimal('16849'))\n",
      "('El Salvador', 5320, Decimal('12053'), Decimal('5062'), Decimal('17115'))\n",
      "('United Kingdom', 5235, Decimal('3410'), Decimal('6106'), Decimal('9516'))\n",
      "('Turkey', 4292, Decimal('6888'), Decimal('9899'), Decimal('16787'))\n"
     ]
    }
   ],
   "source": [
    "query = '''\n",
    "SELECT c.country_name AS country, COUNT(*) as cnt, SUM(td.kill_count) AS deaths, SUM(td.wound_count) AS injuries, SUM(td.kill_count + td.wound_count) AS casualties\n",
    "FROM TerrorData td\n",
    "INNER JOIN Country c ON td.country_code = c.country_code\n",
    "GROUP BY c.country_name\n",
    "ORDER BY cnt DESC\n",
    "LIMIT 10;\n",
    "\n",
    "'''\n",
    "\n",
    "cursor.execute(query)\n",
    "result = cursor.fetchall()\n",
    "\n",
    "for row in result:\n",
    "    print(row)"
   ]
  },
  {
   "cell_type": "markdown",
   "metadata": {
    "id": "jL_b-RAi6Xh8"
   },
   "source": [
    "문제 8. 지역별 테러 공격 형태에 따른 사망자수, 부상자수, 사상자수를 조회하세요.\n",
    "\n",
    "- Python 코드에서 SQL 쿼리를 사용하여 조회합니다. \n",
    "- 지역 정보(Region)는 이름으로 출력하세요.\n",
    "\n",
    "제출 12. 관련 코드 및 실행 결과 (ipynb)"
   ]
  },
  {
   "cell_type": "code",
   "execution_count": 254,
   "metadata": {},
   "outputs": [
    {
     "name": "stdout",
     "output_type": "stream",
     "text": [
      "('Australasia & Oceania', 'Armed Assault', Decimal('78'), Decimal('87'), Decimal('165'))\n",
      "('Australasia & Oceania', 'Assassination', Decimal('34'), Decimal('9'), Decimal('43'))\n",
      "('Australasia & Oceania', 'Bombing/Explosion', Decimal('9'), Decimal('77'), Decimal('86'))\n",
      "('Australasia & Oceania', 'Facility/Infrastructure Attack', Decimal('0'), Decimal('13'), Decimal('13'))\n",
      "('Australasia & Oceania', 'Hijacking', Decimal('0'), Decimal('0'), Decimal('0'))\n",
      "('Australasia & Oceania', 'Hostage Taking (Barricade Incident)', Decimal('6'), Decimal('7'), Decimal('13'))\n",
      "('Australasia & Oceania', 'Hostage Taking (Kidnapping)', Decimal('7'), Decimal('20'), Decimal('27'))\n",
      "('Australasia & Oceania', 'Unarmed Assault', Decimal('1'), Decimal('41'), Decimal('42'))\n",
      "('Australasia & Oceania', 'Unknown', Decimal('15'), Decimal('6'), Decimal('21'))\n",
      "('Central America & Caribbean', 'Armed Assault', Decimal('23233'), Decimal('5459'), Decimal('28692'))\n",
      "('Central America & Caribbean', 'Assassination', Decimal('1699'), Decimal('246'), Decimal('1945'))\n",
      "('Central America & Caribbean', 'Bombing/Explosion', Decimal('2611'), Decimal('2819'), Decimal('5430'))\n",
      "('Central America & Caribbean', 'Facility/Infrastructure Attack', Decimal('118'), Decimal('105'), Decimal('223'))\n",
      "('Central America & Caribbean', 'Hijacking', Decimal('4'), Decimal('4'), Decimal('8'))\n",
      "('Central America & Caribbean', 'Hostage Taking (Barricade Incident)', Decimal('59'), Decimal('47'), Decimal('106'))\n",
      "('Central America & Caribbean', 'Hostage Taking (Kidnapping)', Decimal('266'), Decimal('29'), Decimal('295'))\n",
      "('Central America & Caribbean', 'Unarmed Assault', Decimal('23'), Decimal('16'), Decimal('39'))\n",
      "('Central America & Caribbean', 'Unknown', Decimal('695'), Decimal('266'), Decimal('961'))\n",
      "('Central Asia', 'Armed Assault', Decimal('400'), Decimal('988'), Decimal('1388'))\n",
      "('Central Asia', 'Assassination', Decimal('138'), Decimal('52'), Decimal('190'))\n",
      "('Central Asia', 'Bombing/Explosion', Decimal('349'), Decimal('849'), Decimal('1198'))\n",
      "('Central Asia', 'Facility/Infrastructure Attack', Decimal('1'), Decimal('9'), Decimal('10'))\n",
      "('Central Asia', 'Hijacking', Decimal('14'), Decimal('16'), Decimal('30'))\n",
      "('Central Asia', 'Hostage Taking (Barricade Incident)', Decimal('6'), Decimal('1'), Decimal('7'))\n",
      "('Central Asia', 'Hostage Taking (Kidnapping)', Decimal('10'), Decimal('11'), Decimal('21'))\n",
      "('Central Asia', 'Unarmed Assault', Decimal('16'), Decimal('62'), Decimal('78'))\n",
      "('Central Asia', 'Unknown', Decimal('66'), Decimal('21'), Decimal('87'))\n",
      "('East Asia', 'Armed Assault', Decimal('612'), Decimal('707'), Decimal('1319'))\n",
      "('East Asia', 'Assassination', Decimal('44'), Decimal('35'), Decimal('79'))\n",
      "('East Asia', 'Bombing/Explosion', Decimal('398'), Decimal('1135'), Decimal('1533'))\n",
      "('East Asia', 'Facility/Infrastructure Attack', Decimal('32'), Decimal('142'), Decimal('174'))\n",
      "('East Asia', 'Hijacking', Decimal('9'), Decimal('17'), Decimal('26'))\n",
      "('East Asia', 'Hostage Taking (Barricade Incident)', Decimal('19'), Decimal('26'), Decimal('45'))\n",
      "('East Asia', 'Hostage Taking (Kidnapping)', Decimal('4'), Decimal('4'), Decimal('8'))\n",
      "('East Asia', 'Unarmed Assault', Decimal('26'), Decimal('7040'), Decimal('7066'))\n",
      "('East Asia', 'Unknown', Decimal('8'), Decimal('107'), Decimal('115'))\n",
      "('Eastern Europe', 'Armed Assault', Decimal('2046'), Decimal('1852'), Decimal('3898'))\n",
      "('Eastern Europe', 'Assassination', Decimal('377'), Decimal('401'), Decimal('778'))\n",
      "('Eastern Europe', 'Bombing/Explosion', Decimal('3725'), Decimal('8262'), Decimal('11987'))\n",
      "('Eastern Europe', 'Facility/Infrastructure Attack', Decimal('33'), Decimal('63'), Decimal('96'))\n",
      "('Eastern Europe', 'Hijacking', Decimal('57'), Decimal('25'), Decimal('82'))\n",
      "('Eastern Europe', 'Hostage Taking (Barricade Incident)', Decimal('667'), Decimal('751'), Decimal('1418'))\n",
      "('Eastern Europe', 'Hostage Taking (Kidnapping)', Decimal('175'), Decimal('415'), Decimal('590'))\n",
      "('Eastern Europe', 'Unarmed Assault', Decimal('11'), Decimal('88'), Decimal('99'))\n",
      "('Eastern Europe', 'Unknown', Decimal('324'), Decimal('188'), Decimal('512'))\n",
      "('Middle East & North Africa', 'Armed Assault', Decimal('26201'), Decimal('14894'), Decimal('41095'))\n",
      "('Middle East & North Africa', 'Assassination', Decimal('4774'), Decimal('4521'), Decimal('9295'))\n",
      "('Middle East & North Africa', 'Bombing/Explosion', Decimal('81183'), Decimal('187839'), Decimal('269022'))\n",
      "('Middle East & North Africa', 'Facility/Infrastructure Attack', Decimal('802'), Decimal('618'), Decimal('1420'))\n",
      "('Middle East & North Africa', 'Hijacking', Decimal('124'), Decimal('73'), Decimal('197'))\n",
      "('Middle East & North Africa', 'Hostage Taking (Barricade Incident)', Decimal('1115'), Decimal('667'), Decimal('1782'))\n",
      "('Middle East & North Africa', 'Hostage Taking (Kidnapping)', Decimal('12722'), Decimal('1518'), Decimal('14240'))\n",
      "('Middle East & North Africa', 'Unarmed Assault', Decimal('145'), Decimal('701'), Decimal('846'))\n",
      "('Middle East & North Africa', 'Unknown', Decimal('10576'), Decimal('3477'), Decimal('14053'))\n",
      "('North America', 'Armed Assault', Decimal('837'), Decimal('1542'), Decimal('2379'))\n",
      "('North America', 'Assassination', Decimal('238'), Decimal('84'), Decimal('322'))\n",
      "('North America', 'Bombing/Explosion', Decimal('598'), Decimal('1806'), Decimal('2404'))\n",
      "('North America', 'Facility/Infrastructure Attack', Decimal('64'), Decimal('460'), Decimal('524'))\n",
      "('North America', 'Hijacking', Decimal('3005'), Decimal('16512'), Decimal('19517'))\n",
      "('North America', 'Hostage Taking (Barricade Incident)', Decimal('81'), Decimal('80'), Decimal('161'))\n",
      "('North America', 'Hostage Taking (Kidnapping)', Decimal('67'), Decimal('52'), Decimal('119'))\n",
      "('North America', 'Unarmed Assault', Decimal('16'), Decimal('970'), Decimal('986'))\n",
      "('North America', 'Unknown', Decimal('10'), Decimal('25'), Decimal('35'))\n",
      "('South America', 'Armed Assault', Decimal('16814'), Decimal('3887'), Decimal('20701'))\n",
      "('South America', 'Assassination', Decimal('4239'), Decimal('655'), Decimal('4894'))\n",
      "('South America', 'Bombing/Explosion', Decimal('4318'), Decimal('10933'), Decimal('15251'))\n",
      "('South America', 'Facility/Infrastructure Attack', Decimal('238'), Decimal('143'), Decimal('381'))\n",
      "('South America', 'Hijacking', Decimal('16'), Decimal('9'), Decimal('25'))\n",
      "('South America', 'Hostage Taking (Barricade Incident)', Decimal('36'), Decimal('47'), Decimal('83'))\n",
      "('South America', 'Hostage Taking (Kidnapping)', Decimal('1069'), Decimal('177'), Decimal('1246'))\n",
      "('South America', 'Unarmed Assault', Decimal('75'), Decimal('108'), Decimal('183'))\n",
      "('South America', 'Unknown', Decimal('2044'), Decimal('745'), Decimal('2789'))\n",
      "('South Asia', 'Armed Assault', Decimal('39132'), Decimal('24505'), Decimal('63637'))\n",
      "('South Asia', 'Assassination', Decimal('6701'), Decimal('5180'), Decimal('11881'))\n",
      "('South Asia', 'Bombing/Explosion', Decimal('41490'), Decimal('97925'), Decimal('139415'))\n",
      "('South Asia', 'Facility/Infrastructure Attack', Decimal('562'), Decimal('1132'), Decimal('1694'))\n",
      "('South Asia', 'Hijacking', Decimal('142'), Decimal('206'), Decimal('348'))\n",
      "('South Asia', 'Hostage Taking (Barricade Incident)', Decimal('795'), Decimal('872'), Decimal('1667'))\n",
      "('South Asia', 'Hostage Taking (Kidnapping)', Decimal('4207'), Decimal('1350'), Decimal('5557'))\n",
      "('South Asia', 'Unarmed Assault', Decimal('79'), Decimal('3661'), Decimal('3740'))\n",
      "('South Asia', 'Unknown', Decimal('8211'), Decimal('6529'), Decimal('14740'))\n",
      "('Southeast Asia', 'Armed Assault', Decimal('7745'), Decimal('5667'), Decimal('13412'))\n",
      "('Southeast Asia', 'Assassination', Decimal('1632'), Decimal('821'), Decimal('2453'))\n",
      "('Southeast Asia', 'Bombing/Explosion', Decimal('3854'), Decimal('18547'), Decimal('22401'))\n",
      "('Southeast Asia', 'Facility/Infrastructure Attack', Decimal('150'), Decimal('204'), Decimal('354'))\n",
      "('Southeast Asia', 'Hijacking', Decimal('164'), Decimal('35'), Decimal('199'))\n",
      "('Southeast Asia', 'Hostage Taking (Barricade Incident)', Decimal('224'), Decimal('58'), Decimal('282'))\n",
      "('Southeast Asia', 'Hostage Taking (Kidnapping)', Decimal('562'), Decimal('164'), Decimal('726'))\n",
      "('Southeast Asia', 'Unarmed Assault', Decimal('30'), Decimal('152'), Decimal('182'))\n",
      "('Southeast Asia', 'Unknown', Decimal('1276'), Decimal('611'), Decimal('1887'))\n",
      "('Sub-Saharan Africa', 'Armed Assault', Decimal('42224'), Decimal('15715'), Decimal('57939'))\n",
      "('Sub-Saharan Africa', 'Assassination', Decimal('2371'), Decimal('1082'), Decimal('3453'))\n",
      "('Sub-Saharan Africa', 'Bombing/Explosion', Decimal('16261'), Decimal('28448'), Decimal('44709'))\n",
      "('Sub-Saharan Africa', 'Facility/Infrastructure Attack', Decimal('1584'), Decimal('502'), Decimal('2086'))\n",
      "('Sub-Saharan Africa', 'Hijacking', Decimal('50'), Decimal('38'), Decimal('88'))\n",
      "('Sub-Saharan Africa', 'Hostage Taking (Barricade Incident)', Decimal('1300'), Decimal('1021'), Decimal('2321'))\n",
      "('Sub-Saharan Africa', 'Hostage Taking (Kidnapping)', Decimal('5065'), Decimal('2673'), Decimal('7738'))\n",
      "('Sub-Saharan Africa', 'Unarmed Assault', Decimal('405'), Decimal('753'), Decimal('1158'))\n",
      "('Sub-Saharan Africa', 'Unknown', Decimal('9126'), Decimal('2624'), Decimal('11750'))\n",
      "('Western Europe', 'Armed Assault', Decimal('975'), Decimal('2062'), Decimal('3037'))\n",
      "('Western Europe', 'Assassination', Decimal('2673'), Decimal('801'), Decimal('3474'))\n",
      "('Western Europe', 'Bombing/Explosion', Decimal('2525'), Decimal('14046'), Decimal('16571'))\n",
      "('Western Europe', 'Facility/Infrastructure Attack', Decimal('58'), Decimal('374'), Decimal('432'))\n",
      "('Western Europe', 'Hijacking', Decimal('133'), Decimal('66'), Decimal('199'))\n",
      "('Western Europe', 'Hostage Taking (Barricade Incident)', Decimal('170'), Decimal('389'), Decimal('559'))\n",
      "('Western Europe', 'Hostage Taking (Kidnapping)', Decimal('77'), Decimal('33'), Decimal('110'))\n",
      "('Western Europe', 'Unarmed Assault', Decimal('53'), Decimal('435'), Decimal('488'))\n",
      "('Western Europe', 'Unknown', Decimal('30'), Decimal('126'), Decimal('156'))\n"
     ]
    }
   ],
   "source": [
    "query = '''\n",
    "SELECT \n",
    "    r.region_name, \n",
    "    at.attacktype_desc, \n",
    "    SUM(td.kill_count) AS total_kills, \n",
    "    SUM(td.wound_count) AS total_wounds,\n",
    "    SUM(td.kill_count + td.wound_count) AS total_casualties\n",
    "FROM Region r\n",
    "JOIN Country c ON r.region_code = c.region_code\n",
    "JOIN TerrorData td ON c.country_code = td.country_code\n",
    "JOIN AttackType at ON td.attacktype_code = at.attacktype_code\n",
    "GROUP BY r.region_name, at.attacktype_desc\n",
    "ORDER BY r.region_name, at.attacktype_desc\n",
    "'''\n",
    "\n",
    "cursor.execute(query)\n",
    "result = cursor.fetchall()\n",
    "\n",
    "for row in result:\n",
    "    print(row)"
   ]
  },
  {
   "cell_type": "markdown",
   "metadata": {
    "id": "XAMeGq6c6Xh8"
   },
   "source": [
    "---"
   ]
  },
  {
   "cell_type": "markdown",
   "metadata": {
    "id": "S0AG9bjM6Xh8"
   },
   "source": [
    "# reference"
   ]
  },
  {
   "cell_type": "markdown",
   "metadata": {
    "id": "0_hOJKj36Xh9"
   },
   "source": [
    "민형동 (2020). Global Terrorism Data를 활용한 국가별 테러유형 분석. 한국공안행정학회, 82, 63-84. \n",
    "\n",
    "한인택 (2017). Global Terrorism Database를 활용한 테러리즘의 현황분석. \n",
    "\n",
    "민형기 (2019). 전세계 테러 데이터 분석 (따라하기). https://pinkwink.kr/1214 \n",
    "\n",
    "ASHWINI SWSAIN (2018). Terrorism Around The World. https://www.kaggle.com/code/ash316/terrorism-around-the-world/notebook\n",
    "\n",
    "START (National Consortium for the Study of Terrorism and Responses to Terrorism). (2021). *Global Terrorism Database* (GTD) [Data set]. University of Maryland. https://www.start.umd.edu/gtd\n",
    "\n",
    "START (National Consortium for the Study of Terrorism and Responses to Terrorism). (2021, August). *Global Terrorism Database codebook: Methodology, inclusion criteria, and variables.* University of Maryland. https://www.start.umd.edu/gtd/downloads/Codebook.pdf \n"
   ]
  }
 ],
 "metadata": {
  "colab": {
   "provenance": []
  },
  "kernelspec": {
   "display_name": "Python 3 (ipykernel)",
   "language": "python",
   "name": "python3"
  },
  "language_info": {
   "codemirror_mode": {
    "name": "ipython",
    "version": 3
   },
   "file_extension": ".py",
   "mimetype": "text/x-python",
   "name": "python",
   "nbconvert_exporter": "python",
   "pygments_lexer": "ipython3",
   "version": "3.8.16"
  },
  "vscode": {
   "interpreter": {
    "hash": "8a599eba5a0607422bdd95bfff87163a2f2d674a232995810feaab4a67e8969e"
   }
  }
 },
 "nbformat": 4,
 "nbformat_minor": 1
}
